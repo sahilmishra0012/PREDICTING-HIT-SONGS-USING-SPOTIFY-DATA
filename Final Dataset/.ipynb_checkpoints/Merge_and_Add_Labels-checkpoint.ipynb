{
 "cells": [
  {
   "cell_type": "code",
   "execution_count": null,
   "metadata": {
    "ExecuteTime": {
     "end_time": "2020-01-03T04:10:01.859879Z",
     "start_time": "2020-01-03T04:10:01.854129Z"
    }
   },
   "outputs": [],
   "source": [
    "import pandas as pd\n",
    "from tqdm import tqdm"
   ]
  },
  {
   "cell_type": "code",
   "execution_count": null,
   "metadata": {
    "ExecuteTime": {
     "end_time": "2020-01-03T03:47:34.841692Z",
     "start_time": "2020-01-03T03:47:34.438630Z"
    }
   },
   "outputs": [],
   "source": [
    "billboard_data=pd.read_excel('/home/samthekiller/Downloads/Projects/Machine Learning/Spotify/Extract Features/BillBoard/BillBoard_Features.xls')"
   ]
  },
  {
   "cell_type": "code",
   "execution_count": null,
   "metadata": {
    "ExecuteTime": {
     "end_time": "2020-01-03T03:54:41.809266Z",
     "start_time": "2020-01-03T03:54:41.797479Z"
    }
   },
   "outputs": [],
   "source": [
    "billboard_data.drop(['Track','Artist'],axis=1,inplace=True)"
   ]
  },
  {
   "cell_type": "code",
   "execution_count": null,
   "metadata": {
    "ExecuteTime": {
     "end_time": "2020-01-03T03:54:48.968838Z",
     "start_time": "2020-01-03T03:54:48.667455Z"
    }
   },
   "outputs": [],
   "source": [
    "msd_data=pd.read_excel('/home/samthekiller/Downloads/Projects/Machine Learning/Spotify/Extract Features/MSD/MSD_Features.xls')"
   ]
  },
  {
   "cell_type": "code",
   "execution_count": null,
   "metadata": {
    "ExecuteTime": {
     "end_time": "2020-01-03T03:54:57.373145Z",
     "start_time": "2020-01-03T03:54:57.363257Z"
    }
   },
   "outputs": [],
   "source": [
    "msd_data.drop([0,1,2,3,4],axis=1,inplace=True)"
   ]
  },
  {
   "cell_type": "code",
   "execution_count": null,
   "metadata": {
    "ExecuteTime": {
     "end_time": "2020-01-03T03:55:08.382190Z",
     "start_time": "2020-01-03T03:55:08.374988Z"
    }
   },
   "outputs": [],
   "source": [
    "billboard_data['is_hit']=1"
   ]
  },
  {
   "cell_type": "code",
   "execution_count": null,
   "metadata": {
    "ExecuteTime": {
     "end_time": "2020-01-03T03:58:51.517519Z",
     "start_time": "2020-01-03T03:58:51.508463Z"
    }
   },
   "outputs": [],
   "source": [
    "billboard_data.drop_duplicates(subset =\"SpotifyID\", keep = False, inplace = True) "
   ]
  },
  {
   "cell_type": "code",
   "execution_count": null,
   "metadata": {
    "ExecuteTime": {
     "end_time": "2020-01-03T03:58:57.514187Z",
     "start_time": "2020-01-03T03:58:57.508814Z"
    }
   },
   "outputs": [],
   "source": [
    "billboard_ID=list(billboard_data['SpotifyID'])"
   ]
  },
  {
   "cell_type": "code",
   "execution_count": null,
   "metadata": {
    "ExecuteTime": {
     "end_time": "2020-01-03T03:59:09.519184Z",
     "start_time": "2020-01-03T03:59:09.469668Z"
    }
   },
   "outputs": [],
   "source": [
    "msd_data.drop_duplicates(subset =5, keep = False, inplace = True) "
   ]
  },
  {
   "cell_type": "code",
   "execution_count": null,
   "metadata": {
    "ExecuteTime": {
     "end_time": "2020-01-03T04:01:50.471918Z",
     "start_time": "2020-01-03T04:01:50.461879Z"
    }
   },
   "outputs": [],
   "source": [
    "k=list(msd_data.columns)"
   ]
  },
  {
   "cell_type": "code",
   "execution_count": null,
   "metadata": {
    "ExecuteTime": {
     "end_time": "2020-01-03T04:13:12.126103Z",
     "start_time": "2020-01-03T04:13:12.095267Z"
    }
   },
   "outputs": [],
   "source": [
    "msd_not_hit=pd.DataFrame(columns=k)"
   ]
  },
  {
   "cell_type": "code",
   "execution_count": null,
   "metadata": {
    "ExecuteTime": {
     "end_time": "2020-01-03T04:13:13.473907Z",
     "start_time": "2020-01-03T04:13:13.460534Z"
    }
   },
   "outputs": [],
   "source": [
    "SpotifyID=[]\n",
    "danceability=[]\n",
    "energy=[]\n",
    "key=[]\n",
    "loudness=[]\n",
    "mode=[]\n",
    "speechiness=[]\n",
    "acousticness=[]\n",
    "instrumentalness=[]\n",
    "liveness=[]\n",
    "valence=[]\n",
    "tempo=[]\n",
    "duration_ms=[]"
   ]
  },
  {
   "cell_type": "code",
   "execution_count": null,
   "metadata": {
    "ExecuteTime": {
     "end_time": "2020-01-03T04:13:24.259777Z",
     "start_time": "2020-01-03T04:13:22.234863Z"
    }
   },
   "outputs": [],
   "source": [
    "count=0\n",
    "for i in tqdm(msd_data.iterrows()):\n",
    "    if i[1][5] not in billboard_ID:\n",
    "        SpotifyID.append(i[1][5])\n",
    "        danceability.append(i[1]['danceability'])\n",
    "        energy.append(i[1]['energy'])\n",
    "        key.append(i[1]['key'])\n",
    "        loudness.append(i[1]['loudness'])\n",
    "        mode.append(i[1]['mode'])\n",
    "        speechiness.append(i[1]['speechiness'])\n",
    "        acousticness.append(i[1]['acousticness'])\n",
    "        instrumentalness.append(i[1]['instrumentalness'])\n",
    "        liveness.append(i[1]['liveness'])\n",
    "        valence.append(i[1]['valence'])\n",
    "        tempo.append(i[1]['tempo'])\n",
    "        duration_ms.append(i[1]['duration_ms'])"
   ]
  },
  {
   "cell_type": "code",
   "execution_count": null,
   "metadata": {
    "ExecuteTime": {
     "end_time": "2020-01-03T04:13:37.034425Z",
     "start_time": "2020-01-03T04:13:36.993097Z"
    }
   },
   "outputs": [],
   "source": [
    "msd_not_hit[5]=SpotifyID\n",
    "msd_not_hit['danceability']=danceability\n",
    "msd_not_hit['energy']=energy\n",
    "msd_not_hit['key']=key\n",
    "msd_not_hit['loudness']=loudness\n",
    "msd_not_hit['mode']=mode\n",
    "msd_not_hit['speechiness']=speechiness\n",
    "msd_not_hit['acousticness']=acousticness\n",
    "msd_not_hit['instrumentalness']=instrumentalness\n",
    "msd_not_hit['liveness']=liveness\n",
    "msd_not_hit['valence']=valence\n",
    "msd_not_hit['tempo']=tempo\n",
    "msd_not_hit['duration_ms']=duration_ms"
   ]
  },
  {
   "cell_type": "code",
   "execution_count": null,
   "metadata": {
    "ExecuteTime": {
     "end_time": "2020-01-03T04:13:55.569651Z",
     "start_time": "2020-01-03T04:13:55.555240Z"
    }
   },
   "outputs": [],
   "source": [
    "msd_not_hit['is_hit']=0"
   ]
  },
  {
   "cell_type": "code",
   "execution_count": null,
   "metadata": {
    "ExecuteTime": {
     "end_time": "2020-01-03T04:17:07.968375Z",
     "start_time": "2020-01-03T04:17:07.814850Z"
    }
   },
   "outputs": [],
   "source": [
    "songs_data=pd.concat([billboard_data,msd_not_hit])"
   ]
  },
  {
   "cell_type": "code",
   "execution_count": null,
   "metadata": {
    "ExecuteTime": {
     "end_time": "2020-01-03T04:20:05.104156Z",
     "start_time": "2020-01-03T04:20:05.084737Z"
    }
   },
   "outputs": [],
   "source": [
    "billboard_data.rename(columns={\"SpotifyID\":5},inplace=True)"
   ]
  },
  {
   "cell_type": "code",
   "execution_count": null,
   "metadata": {
    "ExecuteTime": {
     "end_time": "2020-01-03T04:20:40.163166Z",
     "start_time": "2020-01-03T04:20:40.147117Z"
    }
   },
   "outputs": [],
   "source": [
    "songs_data=pd.concat([billboard_data,msd_not_hit])"
   ]
  },
  {
   "cell_type": "code",
   "execution_count": null,
   "metadata": {
    "ExecuteTime": {
     "end_time": "2020-01-03T04:22:07.032742Z",
     "start_time": "2020-01-03T04:22:02.816173Z"
    }
   },
   "outputs": [],
   "source": [
    "songs_data.to_excel('songs.xls',index=False,header=True)"
   ]
  }
 ],
 "metadata": {
  "kernelspec": {
   "display_name": "Python 3",
   "language": "python",
   "name": "python3"
  },
  "language_info": {
   "codemirror_mode": {
    "name": "ipython",
    "version": 3
   },
   "file_extension": ".py",
   "mimetype": "text/x-python",
   "name": "python",
   "nbconvert_exporter": "python",
   "pygments_lexer": "ipython3",
   "version": "3.7.3"
  },
  "toc": {
   "base_numbering": 1,
   "nav_menu": {},
   "number_sections": true,
   "sideBar": true,
   "skip_h1_title": false,
   "title_cell": "Table of Contents",
   "title_sidebar": "Contents",
   "toc_cell": false,
   "toc_position": {},
   "toc_section_display": true,
   "toc_window_display": false
  },
  "varInspector": {
   "cols": {
    "lenName": 16,
    "lenType": 16,
    "lenVar": 40
   },
   "kernels_config": {
    "python": {
     "delete_cmd_postfix": "",
     "delete_cmd_prefix": "del ",
     "library": "var_list.py",
     "varRefreshCmd": "print(var_dic_list())"
    },
    "r": {
     "delete_cmd_postfix": ") ",
     "delete_cmd_prefix": "rm(",
     "library": "var_list.r",
     "varRefreshCmd": "cat(var_dic_list()) "
    }
   },
   "types_to_exclude": [
    "module",
    "function",
    "builtin_function_or_method",
    "instance",
    "_Feature"
   ],
   "window_display": false
  }
 },
 "nbformat": 4,
 "nbformat_minor": 2
}
