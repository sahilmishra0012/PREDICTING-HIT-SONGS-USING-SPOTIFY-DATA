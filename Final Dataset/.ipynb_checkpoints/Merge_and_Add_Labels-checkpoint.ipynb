{
 "cells": [
  {
   "cell_type": "code",
   "execution_count": 1,
   "metadata": {
    "ExecuteTime": {
     "end_time": "2019-12-27T18:33:04.415469Z",
     "start_time": "2019-12-27T18:33:04.079924Z"
    }
   },
   "outputs": [],
   "source": [
    "import pandas as pd"
   ]
  },
  {
   "cell_type": "code",
   "execution_count": 2,
   "metadata": {
    "ExecuteTime": {
     "end_time": "2019-12-27T18:35:41.998783Z",
     "start_time": "2019-12-27T18:35:40.945331Z"
    }
   },
   "outputs": [],
   "source": [
    "billboard_data=pd.read_excel('/home/samthekiller/Downloads/Projects/Machine Learning/Spotify/Extract Features/BillBoard/BillBoard_Features.xls')"
   ]
  },
  {
   "cell_type": "code",
   "execution_count": 7,
   "metadata": {
    "ExecuteTime": {
     "end_time": "2019-12-27T18:41:42.001384Z",
     "start_time": "2019-12-27T18:41:41.991514Z"
    }
   },
   "outputs": [],
   "source": [
    "billboard_data.drop(['Track','Artist'],axis=1,inplace=True)"
   ]
  },
  {
   "cell_type": "code",
   "execution_count": 4,
   "metadata": {
    "ExecuteTime": {
     "end_time": "2019-12-27T18:37:02.068505Z",
     "start_time": "2019-12-27T18:37:01.233547Z"
    }
   },
   "outputs": [],
   "source": [
    "msd_data=pd.read_excel('/home/samthekiller/Downloads/Projects/Machine Learning/Spotify/Extract Features/MSD/MSD_Features.xls')"
   ]
  },
  {
   "cell_type": "code",
   "execution_count": 8,
   "metadata": {
    "ExecuteTime": {
     "end_time": "2019-12-27T18:42:06.425326Z",
     "start_time": "2019-12-27T18:42:06.415857Z"
    }
   },
   "outputs": [],
   "source": [
    "msd_data.drop([0,1,2,3,4],axis=1,inplace=True)"
   ]
  },
  {
   "cell_type": "code",
   "execution_count": 16,
   "metadata": {
    "ExecuteTime": {
     "end_time": "2019-12-27T18:52:12.682741Z",
     "start_time": "2019-12-27T18:52:12.668788Z"
    }
   },
   "outputs": [],
   "source": [
    "billboard_data['is_hit']=1"
   ]
  },
  {
   "cell_type": "code",
   "execution_count": 25,
   "metadata": {
    "ExecuteTime": {
     "end_time": "2019-12-27T18:57:10.605191Z",
     "start_time": "2019-12-27T18:57:10.588160Z"
    }
   },
   "outputs": [],
   "source": [
    "billboard_data.drop_duplicates(subset =\"SpotifyID\", keep = False, inplace = True) "
   ]
  },
  {
   "cell_type": "code",
   "execution_count": 32,
   "metadata": {
    "ExecuteTime": {
     "end_time": "2019-12-27T18:58:46.392779Z",
     "start_time": "2019-12-27T18:58:46.372200Z"
    }
   },
   "outputs": [],
   "source": [
    "billboard_ID=list(billboard_data['SpotifyID'])"
   ]
  },
  {
   "cell_type": "code",
   "execution_count": 37,
   "metadata": {
    "ExecuteTime": {
     "end_time": "2019-12-27T18:59:29.281597Z",
     "start_time": "2019-12-27T18:59:29.235080Z"
    }
   },
   "outputs": [],
   "source": [
    "msd_data.drop_duplicates(subset =5, keep = False, inplace = True) "
   ]
  },
  {
   "cell_type": "code",
   "execution_count": 45,
   "metadata": {
    "ExecuteTime": {
     "end_time": "2019-12-27T19:03:20.940282Z",
     "start_time": "2019-12-27T19:03:19.461186Z"
    }
   },
   "outputs": [],
   "source": [
    "count=0\n",
    "for i in msd_data.iterrows():\n",
    "    if i[1][5] not in billboard_ID:\n",
    "        count=count+1"
   ]
  },
  {
   "cell_type": "code",
   "execution_count": null,
   "metadata": {},
   "outputs": [],
   "source": []
  }
 ],
 "metadata": {
  "kernelspec": {
   "display_name": "Python 3",
   "language": "python",
   "name": "python3"
  },
  "language_info": {
   "codemirror_mode": {
    "name": "ipython",
    "version": 3
   },
   "file_extension": ".py",
   "mimetype": "text/x-python",
   "name": "python",
   "nbconvert_exporter": "python",
   "pygments_lexer": "ipython3",
   "version": "3.7.3"
  },
  "toc": {
   "base_numbering": 1,
   "nav_menu": {},
   "number_sections": true,
   "sideBar": true,
   "skip_h1_title": false,
   "title_cell": "Table of Contents",
   "title_sidebar": "Contents",
   "toc_cell": false,
   "toc_position": {},
   "toc_section_display": true,
   "toc_window_display": false
  },
  "varInspector": {
   "cols": {
    "lenName": 16,
    "lenType": 16,
    "lenVar": 40
   },
   "kernels_config": {
    "python": {
     "delete_cmd_postfix": "",
     "delete_cmd_prefix": "del ",
     "library": "var_list.py",
     "varRefreshCmd": "print(var_dic_list())"
    },
    "r": {
     "delete_cmd_postfix": ") ",
     "delete_cmd_prefix": "rm(",
     "library": "var_list.r",
     "varRefreshCmd": "cat(var_dic_list()) "
    }
   },
   "types_to_exclude": [
    "module",
    "function",
    "builtin_function_or_method",
    "instance",
    "_Feature"
   ],
   "window_display": false
  }
 },
 "nbformat": 4,
 "nbformat_minor": 2
}
