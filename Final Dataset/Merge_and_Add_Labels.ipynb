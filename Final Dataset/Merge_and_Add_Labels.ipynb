{
 "cells": [
  {
   "cell_type": "code",
   "execution_count": 30,
   "metadata": {
    "ExecuteTime": {
     "end_time": "2020-01-03T04:10:01.859879Z",
     "start_time": "2020-01-03T04:10:01.854129Z"
    }
   },
   "outputs": [],
   "source": [
    "import pandas as pd\n",
    "from tqdm import tqdm"
   ]
  },
  {
   "cell_type": "code",
   "execution_count": 2,
   "metadata": {
    "ExecuteTime": {
     "end_time": "2020-01-03T03:47:34.841692Z",
     "start_time": "2020-01-03T03:47:34.438630Z"
    }
   },
   "outputs": [],
   "source": [
    "billboard_data=pd.read_excel('/home/samthekiller/Downloads/Projects/Machine Learning/Spotify/Extract Features/BillBoard/BillBoard_Features.xls')"
   ]
  },
  {
   "cell_type": "code",
   "execution_count": 4,
   "metadata": {
    "ExecuteTime": {
     "end_time": "2020-01-03T03:54:41.809266Z",
     "start_time": "2020-01-03T03:54:41.797479Z"
    }
   },
   "outputs": [],
   "source": [
    "billboard_data.drop(['Track','Artist'],axis=1,inplace=True)"
   ]
  },
  {
   "cell_type": "code",
   "execution_count": 5,
   "metadata": {
    "ExecuteTime": {
     "end_time": "2020-01-03T03:54:48.968838Z",
     "start_time": "2020-01-03T03:54:48.667455Z"
    }
   },
   "outputs": [],
   "source": [
    "msd_data=pd.read_excel('/home/samthekiller/Downloads/Projects/Machine Learning/Spotify/Extract Features/MSD/MSD_Features.xls')"
   ]
  },
  {
   "cell_type": "code",
   "execution_count": 7,
   "metadata": {
    "ExecuteTime": {
     "end_time": "2020-01-03T03:54:57.373145Z",
     "start_time": "2020-01-03T03:54:57.363257Z"
    }
   },
   "outputs": [],
   "source": [
    "msd_data.drop([0,1,2,3,4],axis=1,inplace=True)"
   ]
  },
  {
   "cell_type": "code",
   "execution_count": 8,
   "metadata": {
    "ExecuteTime": {
     "end_time": "2020-01-03T03:55:08.382190Z",
     "start_time": "2020-01-03T03:55:08.374988Z"
    }
   },
   "outputs": [],
   "source": [
    "billboard_data['is_hit']=1"
   ]
  },
  {
   "cell_type": "code",
   "execution_count": 9,
   "metadata": {
    "ExecuteTime": {
     "end_time": "2020-01-03T03:58:51.517519Z",
     "start_time": "2020-01-03T03:58:51.508463Z"
    }
   },
   "outputs": [],
   "source": [
    "billboard_data.drop_duplicates(subset =\"SpotifyID\", keep = False, inplace = True) "
   ]
  },
  {
   "cell_type": "code",
   "execution_count": 10,
   "metadata": {
    "ExecuteTime": {
     "end_time": "2020-01-03T03:58:57.514187Z",
     "start_time": "2020-01-03T03:58:57.508814Z"
    }
   },
   "outputs": [],
   "source": [
    "billboard_ID=list(billboard_data['SpotifyID'])"
   ]
  },
  {
   "cell_type": "code",
   "execution_count": 11,
   "metadata": {
    "ExecuteTime": {
     "end_time": "2020-01-03T03:59:09.519184Z",
     "start_time": "2020-01-03T03:59:09.469668Z"
    }
   },
   "outputs": [],
   "source": [
    "msd_data.drop_duplicates(subset =5, keep = False, inplace = True) "
   ]
  },
  {
   "cell_type": "code",
   "execution_count": 16,
   "metadata": {
    "ExecuteTime": {
     "end_time": "2020-01-03T04:01:50.471918Z",
     "start_time": "2020-01-03T04:01:50.461879Z"
    }
   },
   "outputs": [],
   "source": [
    "k=list(msd_data.columns)"
   ]
  },
  {
   "cell_type": "code",
   "execution_count": 34,
   "metadata": {
    "ExecuteTime": {
     "end_time": "2020-01-03T04:13:12.126103Z",
     "start_time": "2020-01-03T04:13:12.095267Z"
    }
   },
   "outputs": [],
   "source": [
    "msd_not_hit=pd.DataFrame(columns=k)"
   ]
  },
  {
   "cell_type": "code",
   "execution_count": 35,
   "metadata": {
    "ExecuteTime": {
     "end_time": "2020-01-03T04:13:13.473907Z",
     "start_time": "2020-01-03T04:13:13.460534Z"
    }
   },
   "outputs": [],
   "source": [
    "SpotifyID=[]\n",
    "danceability=[]\n",
    "energy=[]\n",
    "key=[]\n",
    "loudness=[]\n",
    "mode=[]\n",
    "speechiness=[]\n",
    "acousticness=[]\n",
    "instrumentalness=[]\n",
    "liveness=[]\n",
    "valence=[]\n",
    "tempo=[]\n",
    "duration_ms=[]"
   ]
  },
  {
   "cell_type": "code",
   "execution_count": 36,
   "metadata": {
    "ExecuteTime": {
     "end_time": "2020-01-03T04:13:24.259777Z",
     "start_time": "2020-01-03T04:13:22.234863Z"
    }
   },
   "outputs": [
    {
     "name": "stderr",
     "output_type": "stream",
     "text": [
      "5522it [00:02, 2760.22it/s]\n"
     ]
    }
   ],
   "source": [
    "count=0\n",
    "for i in tqdm(msd_data.iterrows()):\n",
    "    if i[1][5] not in billboard_ID:\n",
    "        SpotifyID.append(i[1][5])\n",
    "        danceability.append(i[1]['danceability'])\n",
    "        energy.append(i[1]['energy'])\n",
    "        key.append(i[1]['key'])\n",
    "        loudness.append(i[1]['loudness'])\n",
    "        mode.append(i[1]['mode'])\n",
    "        speechiness.append(i[1]['speechiness'])\n",
    "        acousticness.append(i[1]['acousticness'])\n",
    "        instrumentalness.append(i[1]['instrumentalness'])\n",
    "        liveness.append(i[1]['liveness'])\n",
    "        valence.append(i[1]['valence'])\n",
    "        tempo.append(i[1]['tempo'])\n",
    "        duration_ms.append(i[1]['duration_ms'])"
   ]
  },
  {
   "cell_type": "code",
   "execution_count": 37,
   "metadata": {
    "ExecuteTime": {
     "end_time": "2020-01-03T04:13:37.034425Z",
     "start_time": "2020-01-03T04:13:36.993097Z"
    }
   },
   "outputs": [],
   "source": [
    "msd_not_hit[5]=SpotifyID\n",
    "msd_not_hit['danceability']=danceability\n",
    "msd_not_hit['energy']=energy\n",
    "msd_not_hit['key']=key\n",
    "msd_not_hit['loudness']=loudness\n",
    "msd_not_hit['mode']=mode\n",
    "msd_not_hit['speechiness']=speechiness\n",
    "msd_not_hit['acousticness']=acousticness\n",
    "msd_not_hit['instrumentalness']=instrumentalness\n",
    "msd_not_hit['liveness']=liveness\n",
    "msd_not_hit['valence']=valence\n",
    "msd_not_hit['tempo']=tempo\n",
    "msd_not_hit['duration_ms']=duration_ms"
   ]
  },
  {
   "cell_type": "code",
   "execution_count": 39,
   "metadata": {
    "ExecuteTime": {
     "end_time": "2020-01-03T04:13:55.569651Z",
     "start_time": "2020-01-03T04:13:55.555240Z"
    }
   },
   "outputs": [],
   "source": [
    "msd_not_hit['is_hit']=0"
   ]
  },
  {
   "cell_type": "code",
   "execution_count": 43,
   "metadata": {
    "ExecuteTime": {
     "end_time": "2020-01-03T04:17:42.556591Z",
     "start_time": "2020-01-03T04:17:42.515158Z"
    }
   },
   "outputs": [
    {
     "data": {
      "text/html": [
       "<div>\n",
       "<style scoped>\n",
       "    .dataframe tbody tr th:only-of-type {\n",
       "        vertical-align: middle;\n",
       "    }\n",
       "\n",
       "    .dataframe tbody tr th {\n",
       "        vertical-align: top;\n",
       "    }\n",
       "\n",
       "    .dataframe thead th {\n",
       "        text-align: right;\n",
       "    }\n",
       "</style>\n",
       "<table border=\"1\" class=\"dataframe\">\n",
       "  <thead>\n",
       "    <tr style=\"text-align: right;\">\n",
       "      <th></th>\n",
       "      <th>5</th>\n",
       "      <th>danceability</th>\n",
       "      <th>energy</th>\n",
       "      <th>key</th>\n",
       "      <th>loudness</th>\n",
       "      <th>mode</th>\n",
       "      <th>speechiness</th>\n",
       "      <th>acousticness</th>\n",
       "      <th>instrumentalness</th>\n",
       "      <th>liveness</th>\n",
       "      <th>valence</th>\n",
       "      <th>tempo</th>\n",
       "      <th>duration_ms</th>\n",
       "      <th>is_hit</th>\n",
       "    </tr>\n",
       "  </thead>\n",
       "  <tbody>\n",
       "    <tr>\n",
       "      <td>0</td>\n",
       "      <td>5JeyXbf7CrVQ8DqwFikN0P</td>\n",
       "      <td>0.699</td>\n",
       "      <td>0.519</td>\n",
       "      <td>8</td>\n",
       "      <td>-6.422</td>\n",
       "      <td>1</td>\n",
       "      <td>0.0290</td>\n",
       "      <td>0.689000</td>\n",
       "      <td>0.000471</td>\n",
       "      <td>0.9350</td>\n",
       "      <td>0.6760</td>\n",
       "      <td>102.463</td>\n",
       "      <td>183027</td>\n",
       "      <td>0</td>\n",
       "    </tr>\n",
       "    <tr>\n",
       "      <td>1</td>\n",
       "      <td>5uN6oY2NGLC6GKoywHKkZA</td>\n",
       "      <td>0.458</td>\n",
       "      <td>0.570</td>\n",
       "      <td>5</td>\n",
       "      <td>-9.159</td>\n",
       "      <td>0</td>\n",
       "      <td>0.0495</td>\n",
       "      <td>0.000055</td>\n",
       "      <td>0.000768</td>\n",
       "      <td>0.0988</td>\n",
       "      <td>0.2030</td>\n",
       "      <td>146.609</td>\n",
       "      <td>218907</td>\n",
       "      <td>0</td>\n",
       "    </tr>\n",
       "    <tr>\n",
       "      <td>2</td>\n",
       "      <td>01TR6aAKrA2cI3Z0gnCOsu</td>\n",
       "      <td>0.751</td>\n",
       "      <td>0.549</td>\n",
       "      <td>6</td>\n",
       "      <td>-10.508</td>\n",
       "      <td>0</td>\n",
       "      <td>0.4290</td>\n",
       "      <td>0.063000</td>\n",
       "      <td>0.000025</td>\n",
       "      <td>0.1060</td>\n",
       "      <td>0.5530</td>\n",
       "      <td>92.224</td>\n",
       "      <td>218933</td>\n",
       "      <td>0</td>\n",
       "    </tr>\n",
       "    <tr>\n",
       "      <td>3</td>\n",
       "      <td>7ERvcsBBYzSHqQQqlI9xAN</td>\n",
       "      <td>0.456</td>\n",
       "      <td>0.472</td>\n",
       "      <td>5</td>\n",
       "      <td>-8.328</td>\n",
       "      <td>1</td>\n",
       "      <td>0.0325</td>\n",
       "      <td>0.706000</td>\n",
       "      <td>0.000005</td>\n",
       "      <td>0.0833</td>\n",
       "      <td>0.2860</td>\n",
       "      <td>147.565</td>\n",
       "      <td>267640</td>\n",
       "      <td>0</td>\n",
       "    </tr>\n",
       "    <tr>\n",
       "      <td>4</td>\n",
       "      <td>6dfppQDZQ4x3fCs6N89kV3</td>\n",
       "      <td>0.498</td>\n",
       "      <td>0.300</td>\n",
       "      <td>7</td>\n",
       "      <td>-10.716</td>\n",
       "      <td>1</td>\n",
       "      <td>0.0352</td>\n",
       "      <td>0.553000</td>\n",
       "      <td>0.000116</td>\n",
       "      <td>0.0963</td>\n",
       "      <td>0.1850</td>\n",
       "      <td>100.315</td>\n",
       "      <td>189560</td>\n",
       "      <td>0</td>\n",
       "    </tr>\n",
       "    <tr>\n",
       "      <td>...</td>\n",
       "      <td>...</td>\n",
       "      <td>...</td>\n",
       "      <td>...</td>\n",
       "      <td>...</td>\n",
       "      <td>...</td>\n",
       "      <td>...</td>\n",
       "      <td>...</td>\n",
       "      <td>...</td>\n",
       "      <td>...</td>\n",
       "      <td>...</td>\n",
       "      <td>...</td>\n",
       "      <td>...</td>\n",
       "      <td>...</td>\n",
       "      <td>...</td>\n",
       "    </tr>\n",
       "    <tr>\n",
       "      <td>5419</td>\n",
       "      <td>7xV2k7FEMtUT4IUu4L87it</td>\n",
       "      <td>0.562</td>\n",
       "      <td>0.525</td>\n",
       "      <td>9</td>\n",
       "      <td>-14.594</td>\n",
       "      <td>1</td>\n",
       "      <td>0.0283</td>\n",
       "      <td>0.456000</td>\n",
       "      <td>0.883000</td>\n",
       "      <td>0.3110</td>\n",
       "      <td>0.7130</td>\n",
       "      <td>141.957</td>\n",
       "      <td>314533</td>\n",
       "      <td>0</td>\n",
       "    </tr>\n",
       "    <tr>\n",
       "      <td>5420</td>\n",
       "      <td>3e0tyTV5FiV1bcYeRjdDz2</td>\n",
       "      <td>0.404</td>\n",
       "      <td>0.636</td>\n",
       "      <td>4</td>\n",
       "      <td>-8.798</td>\n",
       "      <td>0</td>\n",
       "      <td>0.0325</td>\n",
       "      <td>0.064300</td>\n",
       "      <td>0.653000</td>\n",
       "      <td>0.0795</td>\n",
       "      <td>0.0979</td>\n",
       "      <td>140.105</td>\n",
       "      <td>386333</td>\n",
       "      <td>0</td>\n",
       "    </tr>\n",
       "    <tr>\n",
       "      <td>5421</td>\n",
       "      <td>2CQwzG5nbS7ys8CHSlavVg</td>\n",
       "      <td>0.406</td>\n",
       "      <td>0.895</td>\n",
       "      <td>2</td>\n",
       "      <td>-5.282</td>\n",
       "      <td>0</td>\n",
       "      <td>0.0563</td>\n",
       "      <td>0.000429</td>\n",
       "      <td>0.000032</td>\n",
       "      <td>0.1200</td>\n",
       "      <td>0.2780</td>\n",
       "      <td>150.326</td>\n",
       "      <td>209693</td>\n",
       "      <td>0</td>\n",
       "    </tr>\n",
       "    <tr>\n",
       "      <td>5422</td>\n",
       "      <td>0MS1NrmBWaCpPLFEXV0VMZ</td>\n",
       "      <td>0.329</td>\n",
       "      <td>0.963</td>\n",
       "      <td>4</td>\n",
       "      <td>-3.501</td>\n",
       "      <td>1</td>\n",
       "      <td>0.1450</td>\n",
       "      <td>0.000019</td>\n",
       "      <td>0.001380</td>\n",
       "      <td>0.2220</td>\n",
       "      <td>0.2050</td>\n",
       "      <td>116.847</td>\n",
       "      <td>179413</td>\n",
       "      <td>0</td>\n",
       "    </tr>\n",
       "    <tr>\n",
       "      <td>5423</td>\n",
       "      <td>62wqW6Q9eTozrruWPt9Z9i</td>\n",
       "      <td>0.194</td>\n",
       "      <td>0.251</td>\n",
       "      <td>8</td>\n",
       "      <td>-12.959</td>\n",
       "      <td>1</td>\n",
       "      <td>0.0371</td>\n",
       "      <td>0.944000</td>\n",
       "      <td>0.000000</td>\n",
       "      <td>0.0997</td>\n",
       "      <td>0.3100</td>\n",
       "      <td>179.310</td>\n",
       "      <td>169333</td>\n",
       "      <td>0</td>\n",
       "    </tr>\n",
       "  </tbody>\n",
       "</table>\n",
       "<p>5424 rows × 14 columns</p>\n",
       "</div>"
      ],
      "text/plain": [
       "                           5  danceability  energy  key  loudness  mode  \\\n",
       "0     5JeyXbf7CrVQ8DqwFikN0P         0.699   0.519    8    -6.422     1   \n",
       "1     5uN6oY2NGLC6GKoywHKkZA         0.458   0.570    5    -9.159     0   \n",
       "2     01TR6aAKrA2cI3Z0gnCOsu         0.751   0.549    6   -10.508     0   \n",
       "3     7ERvcsBBYzSHqQQqlI9xAN         0.456   0.472    5    -8.328     1   \n",
       "4     6dfppQDZQ4x3fCs6N89kV3         0.498   0.300    7   -10.716     1   \n",
       "...                      ...           ...     ...  ...       ...   ...   \n",
       "5419  7xV2k7FEMtUT4IUu4L87it         0.562   0.525    9   -14.594     1   \n",
       "5420  3e0tyTV5FiV1bcYeRjdDz2         0.404   0.636    4    -8.798     0   \n",
       "5421  2CQwzG5nbS7ys8CHSlavVg         0.406   0.895    2    -5.282     0   \n",
       "5422  0MS1NrmBWaCpPLFEXV0VMZ         0.329   0.963    4    -3.501     1   \n",
       "5423  62wqW6Q9eTozrruWPt9Z9i         0.194   0.251    8   -12.959     1   \n",
       "\n",
       "      speechiness  acousticness  instrumentalness  liveness  valence    tempo  \\\n",
       "0          0.0290      0.689000          0.000471    0.9350   0.6760  102.463   \n",
       "1          0.0495      0.000055          0.000768    0.0988   0.2030  146.609   \n",
       "2          0.4290      0.063000          0.000025    0.1060   0.5530   92.224   \n",
       "3          0.0325      0.706000          0.000005    0.0833   0.2860  147.565   \n",
       "4          0.0352      0.553000          0.000116    0.0963   0.1850  100.315   \n",
       "...           ...           ...               ...       ...      ...      ...   \n",
       "5419       0.0283      0.456000          0.883000    0.3110   0.7130  141.957   \n",
       "5420       0.0325      0.064300          0.653000    0.0795   0.0979  140.105   \n",
       "5421       0.0563      0.000429          0.000032    0.1200   0.2780  150.326   \n",
       "5422       0.1450      0.000019          0.001380    0.2220   0.2050  116.847   \n",
       "5423       0.0371      0.944000          0.000000    0.0997   0.3100  179.310   \n",
       "\n",
       "      duration_ms  is_hit  \n",
       "0          183027       0  \n",
       "1          218907       0  \n",
       "2          218933       0  \n",
       "3          267640       0  \n",
       "4          189560       0  \n",
       "...           ...     ...  \n",
       "5419       314533       0  \n",
       "5420       386333       0  \n",
       "5421       209693       0  \n",
       "5422       179413       0  \n",
       "5423       169333       0  \n",
       "\n",
       "[5424 rows x 14 columns]"
      ]
     },
     "execution_count": 43,
     "metadata": {},
     "output_type": "execute_result"
    }
   ],
   "source": [
    "msd_not_hit"
   ]
  },
  {
   "cell_type": "code",
   "execution_count": 40,
   "metadata": {
    "ExecuteTime": {
     "end_time": "2020-01-03T04:17:07.968375Z",
     "start_time": "2020-01-03T04:17:07.814850Z"
    }
   },
   "outputs": [
    {
     "name": "stderr",
     "output_type": "stream",
     "text": [
      "/home/samthekiller/anaconda3/lib/python3.7/site-packages/ipykernel_launcher.py:1: FutureWarning: Sorting because non-concatenation axis is not aligned. A future version\n",
      "of pandas will change to not sort by default.\n",
      "\n",
      "To accept the future behavior, pass 'sort=False'.\n",
      "\n",
      "To retain the current behavior and silence the warning, pass 'sort=True'.\n",
      "\n",
      "  \"\"\"Entry point for launching an IPython kernel.\n"
     ]
    }
   ],
   "source": [
    "songs_data=pd.concat([billboard_data,msd_not_hit])"
   ]
  },
  {
   "cell_type": "code",
   "execution_count": 49,
   "metadata": {
    "ExecuteTime": {
     "end_time": "2020-01-03T04:20:05.104156Z",
     "start_time": "2020-01-03T04:20:05.084737Z"
    }
   },
   "outputs": [],
   "source": [
    "billboard_data.rename(columns={\"SpotifyID\":5},inplace=True)"
   ]
  },
  {
   "cell_type": "code",
   "execution_count": 52,
   "metadata": {
    "ExecuteTime": {
     "end_time": "2020-01-03T04:20:40.163166Z",
     "start_time": "2020-01-03T04:20:40.147117Z"
    }
   },
   "outputs": [
    {
     "name": "stderr",
     "output_type": "stream",
     "text": [
      "/home/samthekiller/anaconda3/lib/python3.7/site-packages/ipykernel_launcher.py:1: FutureWarning: Sorting because non-concatenation axis is not aligned. A future version\n",
      "of pandas will change to not sort by default.\n",
      "\n",
      "To accept the future behavior, pass 'sort=False'.\n",
      "\n",
      "To retain the current behavior and silence the warning, pass 'sort=True'.\n",
      "\n",
      "  \"\"\"Entry point for launching an IPython kernel.\n"
     ]
    }
   ],
   "source": [
    "songs_data=pd.concat([billboard_data,msd_not_hit])"
   ]
  },
  {
   "cell_type": "code",
   "execution_count": 57,
   "metadata": {
    "ExecuteTime": {
     "end_time": "2020-01-03T04:22:07.032742Z",
     "start_time": "2020-01-03T04:22:02.816173Z"
    }
   },
   "outputs": [],
   "source": [
    "songs_data.to_excel('songs.xls',index=False,header=True)"
   ]
  },
  {
   "cell_type": "code",
   "execution_count": null,
   "metadata": {},
   "outputs": [],
   "source": []
  }
 ],
 "metadata": {
  "kernelspec": {
   "display_name": "Python 3",
   "language": "python",
   "name": "python3"
  },
  "language_info": {
   "codemirror_mode": {
    "name": "ipython",
    "version": 3
   },
   "file_extension": ".py",
   "mimetype": "text/x-python",
   "name": "python",
   "nbconvert_exporter": "python",
   "pygments_lexer": "ipython3",
   "version": "3.7.3"
  },
  "toc": {
   "base_numbering": 1,
   "nav_menu": {},
   "number_sections": true,
   "sideBar": true,
   "skip_h1_title": false,
   "title_cell": "Table of Contents",
   "title_sidebar": "Contents",
   "toc_cell": false,
   "toc_position": {},
   "toc_section_display": true,
   "toc_window_display": false
  },
  "varInspector": {
   "cols": {
    "lenName": 16,
    "lenType": 16,
    "lenVar": 40
   },
   "kernels_config": {
    "python": {
     "delete_cmd_postfix": "",
     "delete_cmd_prefix": "del ",
     "library": "var_list.py",
     "varRefreshCmd": "print(var_dic_list())"
    },
    "r": {
     "delete_cmd_postfix": ") ",
     "delete_cmd_prefix": "rm(",
     "library": "var_list.r",
     "varRefreshCmd": "cat(var_dic_list()) "
    }
   },
   "types_to_exclude": [
    "module",
    "function",
    "builtin_function_or_method",
    "instance",
    "_Feature"
   ],
   "window_display": false
  }
 },
 "nbformat": 4,
 "nbformat_minor": 2
}
