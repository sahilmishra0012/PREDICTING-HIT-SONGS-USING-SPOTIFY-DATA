{
 "cells": [
  {
   "cell_type": "code",
   "execution_count": 2,
   "metadata": {
    "ExecuteTime": {
     "end_time": "2019-12-26T13:49:48.695103Z",
     "start_time": "2019-12-26T13:49:48.412867Z"
    }
   },
   "outputs": [],
   "source": [
    "import pandas as pd\n",
    "from tqdm import tqdm"
   ]
  },
  {
   "cell_type": "code",
   "execution_count": 3,
   "metadata": {
    "ExecuteTime": {
     "end_time": "2019-12-26T13:49:49.341210Z",
     "start_time": "2019-12-26T13:49:49.172351Z"
    }
   },
   "outputs": [],
   "source": [
    "data=pd.read_excel('BillBoard_spotify_id.xls',header=None)"
   ]
  },
  {
   "cell_type": "code",
   "execution_count": 7,
   "metadata": {
    "ExecuteTime": {
     "end_time": "2019-12-26T13:50:18.852552Z",
     "start_time": "2019-12-26T13:50:18.827656Z"
    }
   },
   "outputs": [],
   "source": [
    "non_null_data=data[data[2]!=-999]"
   ]
  },
  {
   "cell_type": "code",
   "execution_count": 9,
   "metadata": {
    "ExecuteTime": {
     "end_time": "2019-12-26T13:50:42.758074Z",
     "start_time": "2019-12-26T13:50:42.668560Z"
    }
   },
   "outputs": [],
   "source": [
    "data=pd.read_excel('temp_ll_yeaaah.xls',header=None)"
   ]
  },
  {
   "cell_type": "code",
   "execution_count": 11,
   "metadata": {
    "ExecuteTime": {
     "end_time": "2019-12-26T13:51:25.453645Z",
     "start_time": "2019-12-26T13:51:25.441878Z"
    }
   },
   "outputs": [],
   "source": [
    "non_null_data1=data[data[3]!=0]"
   ]
  },
  {
   "cell_type": "code",
   "execution_count": 13,
   "metadata": {
    "ExecuteTime": {
     "end_time": "2019-12-26T13:51:46.059900Z",
     "start_time": "2019-12-26T13:51:46.041520Z"
    }
   },
   "outputs": [],
   "source": [
    "non_null_data1=non_null_data1[non_null_data1[3]!=-999]"
   ]
  },
  {
   "cell_type": "code",
   "execution_count": 15,
   "metadata": {
    "ExecuteTime": {
     "end_time": "2019-12-26T13:52:09.620276Z",
     "start_time": "2019-12-26T13:52:09.582171Z"
    }
   },
   "outputs": [],
   "source": [
    "data=pd.read_excel('temp_ll_yeaaah222.xls',header=None)"
   ]
  },
  {
   "cell_type": "code",
   "execution_count": 18,
   "metadata": {
    "ExecuteTime": {
     "end_time": "2019-12-26T13:52:42.406765Z",
     "start_time": "2019-12-26T13:52:42.395279Z"
    }
   },
   "outputs": [],
   "source": [
    "non_null_data2=data[data[4]!=-999]"
   ]
  },
  {
   "cell_type": "code",
   "execution_count": 22,
   "metadata": {
    "ExecuteTime": {
     "end_time": "2019-12-26T13:54:15.393712Z",
     "start_time": "2019-12-26T13:54:15.224821Z"
    }
   },
   "outputs": [
    {
     "name": "stderr",
     "output_type": "stream",
     "text": [
      "/home/samthekiller/anaconda3/lib/python3.7/site-packages/pandas/core/frame.py:4102: SettingWithCopyWarning: \n",
      "A value is trying to be set on a copy of a slice from a DataFrame\n",
      "\n",
      "See the caveats in the documentation: http://pandas.pydata.org/pandas-docs/stable/user_guide/indexing.html#returning-a-view-versus-a-copy\n",
      "  errors=errors,\n"
     ]
    }
   ],
   "source": [
    "non_null_data1.drop(2,axis=1,inplace=True)"
   ]
  },
  {
   "cell_type": "code",
   "execution_count": 25,
   "metadata": {
    "ExecuteTime": {
     "end_time": "2019-12-26T13:55:19.380094Z",
     "start_time": "2019-12-26T13:55:19.365866Z"
    }
   },
   "outputs": [
    {
     "name": "stderr",
     "output_type": "stream",
     "text": [
      "/home/samthekiller/anaconda3/lib/python3.7/site-packages/pandas/core/frame.py:4223: SettingWithCopyWarning: \n",
      "A value is trying to be set on a copy of a slice from a DataFrame\n",
      "\n",
      "See the caveats in the documentation: http://pandas.pydata.org/pandas-docs/stable/user_guide/indexing.html#returning-a-view-versus-a-copy\n",
      "  return super().rename(**kwargs)\n"
     ]
    }
   ],
   "source": [
    "non_null_data1.rename(columns={3:2},inplace=True)"
   ]
  },
  {
   "cell_type": "code",
   "execution_count": 28,
   "metadata": {
    "ExecuteTime": {
     "end_time": "2019-12-26T13:55:48.535259Z",
     "start_time": "2019-12-26T13:55:48.517565Z"
    }
   },
   "outputs": [
    {
     "name": "stderr",
     "output_type": "stream",
     "text": [
      "/home/samthekiller/anaconda3/lib/python3.7/site-packages/pandas/core/frame.py:4102: SettingWithCopyWarning: \n",
      "A value is trying to be set on a copy of a slice from a DataFrame\n",
      "\n",
      "See the caveats in the documentation: http://pandas.pydata.org/pandas-docs/stable/user_guide/indexing.html#returning-a-view-versus-a-copy\n",
      "  errors=errors,\n"
     ]
    }
   ],
   "source": [
    "non_null_data2.drop([2,3],axis=1,inplace=True)"
   ]
  },
  {
   "cell_type": "code",
   "execution_count": 30,
   "metadata": {
    "ExecuteTime": {
     "end_time": "2019-12-26T13:56:08.458893Z",
     "start_time": "2019-12-26T13:56:08.440324Z"
    }
   },
   "outputs": [
    {
     "name": "stderr",
     "output_type": "stream",
     "text": [
      "/home/samthekiller/anaconda3/lib/python3.7/site-packages/pandas/core/frame.py:4223: SettingWithCopyWarning: \n",
      "A value is trying to be set on a copy of a slice from a DataFrame\n",
      "\n",
      "See the caveats in the documentation: http://pandas.pydata.org/pandas-docs/stable/user_guide/indexing.html#returning-a-view-versus-a-copy\n",
      "  return super().rename(**kwargs)\n"
     ]
    }
   ],
   "source": [
    "non_null_data2.rename(columns={4:2},inplace=True)"
   ]
  },
  {
   "cell_type": "code",
   "execution_count": 32,
   "metadata": {
    "ExecuteTime": {
     "end_time": "2019-12-26T13:58:11.585562Z",
     "start_time": "2019-12-26T13:58:11.566425Z"
    }
   },
   "outputs": [],
   "source": [
    "data = pd.concat([non_null_data,non_null_data1,non_null_data2])"
   ]
  },
  {
   "cell_type": "code",
   "execution_count": 33,
   "metadata": {
    "ExecuteTime": {
     "end_time": "2019-12-26T13:58:16.630499Z",
     "start_time": "2019-12-26T13:58:16.597302Z"
    }
   },
   "outputs": [
    {
     "data": {
      "text/html": [
       "<div>\n",
       "<style scoped>\n",
       "    .dataframe tbody tr th:only-of-type {\n",
       "        vertical-align: middle;\n",
       "    }\n",
       "\n",
       "    .dataframe tbody tr th {\n",
       "        vertical-align: top;\n",
       "    }\n",
       "\n",
       "    .dataframe thead th {\n",
       "        text-align: right;\n",
       "    }\n",
       "</style>\n",
       "<table border=\"1\" class=\"dataframe\">\n",
       "  <thead>\n",
       "    <tr style=\"text-align: right;\">\n",
       "      <th></th>\n",
       "      <th>0</th>\n",
       "      <th>1</th>\n",
       "      <th>2</th>\n",
       "    </tr>\n",
       "  </thead>\n",
       "  <tbody>\n",
       "    <tr>\n",
       "      <td>1</td>\n",
       "      <td>Lucid Dreams</td>\n",
       "      <td>Juice WRLD</td>\n",
       "      <td>285pBltuF7vW8TeWk8hdRR</td>\n",
       "    </tr>\n",
       "    <tr>\n",
       "      <td>2</td>\n",
       "      <td>Better Now</td>\n",
       "      <td>Post Malone</td>\n",
       "      <td>7dt6x5M1jzdTEt8oCbisTK</td>\n",
       "    </tr>\n",
       "    <tr>\n",
       "      <td>3</td>\n",
       "      <td>Drip Too Hard</td>\n",
       "      <td>Lil Baby &amp; Gunna</td>\n",
       "      <td>78QR3Wp35dqAhFEc2qAGjE</td>\n",
       "    </tr>\n",
       "    <tr>\n",
       "      <td>5</td>\n",
       "      <td>Sicko Mode</td>\n",
       "      <td>Travis Scott</td>\n",
       "      <td>2xLMifQCjDGFmkHkpNLD9h</td>\n",
       "    </tr>\n",
       "    <tr>\n",
       "      <td>6</td>\n",
       "      <td>Youngblood</td>\n",
       "      <td>5 Seconds Of Summer</td>\n",
       "      <td>2iUXsYOEPhVqEBwsqP70rE</td>\n",
       "    </tr>\n",
       "    <tr>\n",
       "      <td>...</td>\n",
       "      <td>...</td>\n",
       "      <td>...</td>\n",
       "      <td>...</td>\n",
       "    </tr>\n",
       "    <tr>\n",
       "      <td>419</td>\n",
       "      <td>Me So Horny</td>\n",
       "      <td>The 2 Live Crew</td>\n",
       "      <td>6rQ9ypCfSRZs2AqqobvXu3</td>\n",
       "    </tr>\n",
       "    <tr>\n",
       "      <td>423</td>\n",
       "      <td>Pump Up The Jam</td>\n",
       "      <td>Technotronic Featuring Felly</td>\n",
       "      <td>0UAEHlFR79k9CJvknSGUNf</td>\n",
       "    </tr>\n",
       "    <tr>\n",
       "      <td>425</td>\n",
       "      <td>Got To Have Your Love</td>\n",
       "      <td>Mantronix Featuring Wondress</td>\n",
       "      <td>7MZzwdBfX8Dq0xFLFfxtdJ</td>\n",
       "    </tr>\n",
       "    <tr>\n",
       "      <td>429</td>\n",
       "      <td>All Nite</td>\n",
       "      <td>Entouch Featuring Keith Sweat</td>\n",
       "      <td>6q989QMsV87X9Em9J6DONi</td>\n",
       "    </tr>\n",
       "    <tr>\n",
       "      <td>437</td>\n",
       "      <td>The Arms Of Orion</td>\n",
       "      <td>Prince With Sheena Easton</td>\n",
       "      <td>0YcUNHmnt35v7J7amKvgR4</td>\n",
       "    </tr>\n",
       "  </tbody>\n",
       "</table>\n",
       "<p>9329 rows × 3 columns</p>\n",
       "</div>"
      ],
      "text/plain": [
       "                         0                              1  \\\n",
       "1             Lucid Dreams                     Juice WRLD   \n",
       "2               Better Now                    Post Malone   \n",
       "3            Drip Too Hard               Lil Baby & Gunna   \n",
       "5               Sicko Mode                   Travis Scott   \n",
       "6               Youngblood            5 Seconds Of Summer   \n",
       "..                     ...                            ...   \n",
       "419            Me So Horny                The 2 Live Crew   \n",
       "423        Pump Up The Jam   Technotronic Featuring Felly   \n",
       "425  Got To Have Your Love   Mantronix Featuring Wondress   \n",
       "429               All Nite  Entouch Featuring Keith Sweat   \n",
       "437      The Arms Of Orion      Prince With Sheena Easton   \n",
       "\n",
       "                          2  \n",
       "1    285pBltuF7vW8TeWk8hdRR  \n",
       "2    7dt6x5M1jzdTEt8oCbisTK  \n",
       "3    78QR3Wp35dqAhFEc2qAGjE  \n",
       "5    2xLMifQCjDGFmkHkpNLD9h  \n",
       "6    2iUXsYOEPhVqEBwsqP70rE  \n",
       "..                      ...  \n",
       "419  6rQ9ypCfSRZs2AqqobvXu3  \n",
       "423  0UAEHlFR79k9CJvknSGUNf  \n",
       "425  7MZzwdBfX8Dq0xFLFfxtdJ  \n",
       "429  6q989QMsV87X9Em9J6DONi  \n",
       "437  0YcUNHmnt35v7J7amKvgR4  \n",
       "\n",
       "[9329 rows x 3 columns]"
      ]
     },
     "execution_count": 33,
     "metadata": {},
     "output_type": "execute_result"
    }
   ],
   "source": [
    "data"
   ]
  },
  {
   "cell_type": "code",
   "execution_count": 34,
   "metadata": {
    "ExecuteTime": {
     "end_time": "2019-12-26T13:58:50.269339Z",
     "start_time": "2019-12-26T13:58:49.841225Z"
    }
   },
   "outputs": [],
   "source": [
    "data.to_excel('BillBoard_spotify_id_non_null.xls',index=False,header=False)"
   ]
  },
  {
   "cell_type": "code",
   "execution_count": null,
   "metadata": {},
   "outputs": [],
   "source": []
  }
 ],
 "metadata": {
  "kernelspec": {
   "display_name": "Python 3",
   "language": "python",
   "name": "python3"
  },
  "language_info": {
   "codemirror_mode": {
    "name": "ipython",
    "version": 3
   },
   "file_extension": ".py",
   "mimetype": "text/x-python",
   "name": "python",
   "nbconvert_exporter": "python",
   "pygments_lexer": "ipython3",
   "version": "3.7.3"
  },
  "toc": {
   "base_numbering": 1,
   "nav_menu": {},
   "number_sections": true,
   "sideBar": true,
   "skip_h1_title": false,
   "title_cell": "Table of Contents",
   "title_sidebar": "Contents",
   "toc_cell": false,
   "toc_position": {},
   "toc_section_display": true,
   "toc_window_display": false
  },
  "varInspector": {
   "cols": {
    "lenName": 16,
    "lenType": 16,
    "lenVar": 40
   },
   "kernels_config": {
    "python": {
     "delete_cmd_postfix": "",
     "delete_cmd_prefix": "del ",
     "library": "var_list.py",
     "varRefreshCmd": "print(var_dic_list())"
    },
    "r": {
     "delete_cmd_postfix": ") ",
     "delete_cmd_prefix": "rm(",
     "library": "var_list.r",
     "varRefreshCmd": "cat(var_dic_list()) "
    }
   },
   "types_to_exclude": [
    "module",
    "function",
    "builtin_function_or_method",
    "instance",
    "_Feature"
   ],
   "window_display": false
  }
 },
 "nbformat": 4,
 "nbformat_minor": 2
}
