{
 "cells": [
  {
   "cell_type": "code",
   "execution_count": 2,
   "metadata": {
    "ExecuteTime": {
     "end_time": "2019-12-25T01:31:18.647041Z",
     "start_time": "2019-12-25T01:31:18.642724Z"
    }
   },
   "outputs": [],
   "source": [
    "import spotipy\n",
    "from spotipy.oauth2 import SpotifyClientCredentials\n",
    "import pandas as pd\n",
    "from tqdm import tqdm"
   ]
  },
  {
   "cell_type": "code",
   "execution_count": 3,
   "metadata": {
    "ExecuteTime": {
     "end_time": "2019-12-25T01:31:18.886930Z",
     "start_time": "2019-12-25T01:31:18.880924Z"
    }
   },
   "outputs": [],
   "source": [
    "client_credentials = SpotifyClientCredentials(client_id = '69d5ceec0f8d42299ac8fce0969a6beb', client_secret = 'f35d4f91afc64282832550504da49790')\n",
    "spotify = spotipy.Spotify(client_credentials_manager = client_credentials)"
   ]
  },
  {
   "cell_type": "code",
   "execution_count": 4,
   "metadata": {
    "ExecuteTime": {
     "end_time": "2019-12-25T01:31:19.525964Z",
     "start_time": "2019-12-25T01:31:19.243948Z"
    }
   },
   "outputs": [],
   "source": [
    "data=pd.read_excel('file.xls')"
   ]
  },
  {
   "cell_type": "code",
   "execution_count": 5,
   "metadata": {
    "ExecuteTime": {
     "end_time": "2019-12-25T03:30:05.597604Z",
     "start_time": "2019-12-25T01:31:20.076065Z"
    }
   },
   "outputs": [
    {
     "name": "stderr",
     "output_type": "stream",
     "text": [
      "10000it [1:58:45,  1.53it/s]\n"
     ]
    }
   ],
   "source": [
    "ll=[]\n",
    "for i in tqdm(data.iterrows()):\n",
    "    results = spotify.search(q='artist:' + str(i[1]['Artist']) + ' track:' + str(i[1]['Track']), type='track')\n",
    "    if len(results['tracks']['items'])!=0:\n",
    "        ll.append(results['tracks']['items'][0]['id'])\n",
    "    else:\n",
    "        ll.append(-999)"
   ]
  },
  {
   "cell_type": "code",
   "execution_count": 6,
   "metadata": {
    "ExecuteTime": {
     "end_time": "2019-12-25T03:30:51.018013Z",
     "start_time": "2019-12-25T03:30:51.006689Z"
    }
   },
   "outputs": [],
   "source": [
    "data['Spotify_ID']=ll"
   ]
  },
  {
   "cell_type": "code",
   "execution_count": 12,
   "metadata": {
    "ExecuteTime": {
     "end_time": "2019-12-25T03:31:33.579088Z",
     "start_time": "2019-12-25T03:31:33.540140Z"
    }
   },
   "outputs": [
    {
     "data": {
      "text/html": [
       "<div>\n",
       "<style scoped>\n",
       "    .dataframe tbody tr th:only-of-type {\n",
       "        vertical-align: middle;\n",
       "    }\n",
       "\n",
       "    .dataframe tbody tr th {\n",
       "        vertical-align: top;\n",
       "    }\n",
       "\n",
       "    .dataframe thead th {\n",
       "        text-align: right;\n",
       "    }\n",
       "</style>\n",
       "<table border=\"1\" class=\"dataframe\">\n",
       "  <thead>\n",
       "    <tr style=\"text-align: right;\">\n",
       "      <th></th>\n",
       "      <th>Artist</th>\n",
       "      <th>Album</th>\n",
       "      <th>Track</th>\n",
       "      <th>Year</th>\n",
       "      <th>MSD ID</th>\n",
       "      <th>Spotify_ID</th>\n",
       "    </tr>\n",
       "  </thead>\n",
       "  <tbody>\n",
       "    <tr>\n",
       "      <td>0</td>\n",
       "      <td>Sonora Santanera</td>\n",
       "      <td>Las Numero 1 De La Sonora Santanera</td>\n",
       "      <td>Amor De Cabaret</td>\n",
       "      <td>0</td>\n",
       "      <td>TRAAADZ128F9348C2E</td>\n",
       "      <td>5JeyXbf7CrVQ8DqwFikN0P</td>\n",
       "    </tr>\n",
       "    <tr>\n",
       "      <td>1</td>\n",
       "      <td>Planet P Project</td>\n",
       "      <td>Pink World</td>\n",
       "      <td>Pink World</td>\n",
       "      <td>1984</td>\n",
       "      <td>TRAAARJ128F9320760</td>\n",
       "      <td>2dISPmbjb4RKXTORd3KBVp</td>\n",
       "    </tr>\n",
       "    <tr>\n",
       "      <td>2</td>\n",
       "      <td>JennyAnyKind</td>\n",
       "      <td>I Need You</td>\n",
       "      <td>Young Boy Blues</td>\n",
       "      <td>0</td>\n",
       "      <td>TRAAAVO128F93133D4</td>\n",
       "      <td>5uN6oY2NGLC6GKoywHKkZA</td>\n",
       "    </tr>\n",
       "    <tr>\n",
       "      <td>3</td>\n",
       "      <td>Casual</td>\n",
       "      <td>Fear Itself</td>\n",
       "      <td>I Didn't Mean To</td>\n",
       "      <td>0</td>\n",
       "      <td>TRAAAAW128F429D538</td>\n",
       "      <td>01TR6aAKrA2cI3Z0gnCOsu</td>\n",
       "    </tr>\n",
       "    <tr>\n",
       "      <td>4</td>\n",
       "      <td>Jeff And Sheri Easter</td>\n",
       "      <td>Ordinary Day</td>\n",
       "      <td>The Moon And I (Ordinary Day Album Version)</td>\n",
       "      <td>0</td>\n",
       "      <td>TRAAAMO128F1481E7F</td>\n",
       "      <td>7ERvcsBBYzSHqQQqlI9xAN</td>\n",
       "    </tr>\n",
       "    <tr>\n",
       "      <td>...</td>\n",
       "      <td>...</td>\n",
       "      <td>...</td>\n",
       "      <td>...</td>\n",
       "      <td>...</td>\n",
       "      <td>...</td>\n",
       "      <td>...</td>\n",
       "    </tr>\n",
       "    <tr>\n",
       "      <td>9995</td>\n",
       "      <td>Seventh Day Slumber</td>\n",
       "      <td>Once Upon A Shattered Life</td>\n",
       "      <td>Shattered Life</td>\n",
       "      <td>2005</td>\n",
       "      <td>TRBIJYB128F14AE326</td>\n",
       "      <td>2CQwzG5nbS7ys8CHSlavVg</td>\n",
       "    </tr>\n",
       "    <tr>\n",
       "      <td>9996</td>\n",
       "      <td>Blind Willie Johnson</td>\n",
       "      <td>Praise God I'm Satisfied</td>\n",
       "      <td>God Don't Never Change</td>\n",
       "      <td>1989</td>\n",
       "      <td>TRBIJLT12903CE7070</td>\n",
       "      <td>7N3eI4cyyIPnNEXSxt6yNp</td>\n",
       "    </tr>\n",
       "    <tr>\n",
       "      <td>9997</td>\n",
       "      <td>It Dies Today</td>\n",
       "      <td>Sirens</td>\n",
       "      <td>One the road (to Damnation)</td>\n",
       "      <td>2006</td>\n",
       "      <td>TRBIJFB128F92ED124</td>\n",
       "      <td>0MS1NrmBWaCpPLFEXV0VMZ</td>\n",
       "    </tr>\n",
       "    <tr>\n",
       "      <td>9998</td>\n",
       "      <td>Danny Williams</td>\n",
       "      <td>Collection</td>\n",
       "      <td>The Wonderful World Of The Young</td>\n",
       "      <td>1998</td>\n",
       "      <td>TRBIJNF128F14815A7</td>\n",
       "      <td>62wqW6Q9eTozrruWPt9Z9i</td>\n",
       "    </tr>\n",
       "    <tr>\n",
       "      <td>9999</td>\n",
       "      <td>Winston Reedy</td>\n",
       "      <td>Reality</td>\n",
       "      <td>Sentimental Man</td>\n",
       "      <td>0</td>\n",
       "      <td>TRBIJNK128F93093EC</td>\n",
       "      <td>7n0ShZeoewT4ZOJCmwHdnQ</td>\n",
       "    </tr>\n",
       "  </tbody>\n",
       "</table>\n",
       "<p>10000 rows × 6 columns</p>\n",
       "</div>"
      ],
      "text/plain": [
       "                     Artist                                Album  \\\n",
       "0          Sonora Santanera  Las Numero 1 De La Sonora Santanera   \n",
       "1          Planet P Project                           Pink World   \n",
       "2              JennyAnyKind                           I Need You   \n",
       "3                    Casual                          Fear Itself   \n",
       "4     Jeff And Sheri Easter                         Ordinary Day   \n",
       "...                     ...                                  ...   \n",
       "9995    Seventh Day Slumber           Once Upon A Shattered Life   \n",
       "9996   Blind Willie Johnson             Praise God I'm Satisfied   \n",
       "9997          It Dies Today                               Sirens   \n",
       "9998         Danny Williams                           Collection   \n",
       "9999          Winston Reedy                              Reality   \n",
       "\n",
       "                                            Track  Year              MSD ID  \\\n",
       "0                                 Amor De Cabaret     0  TRAAADZ128F9348C2E   \n",
       "1                                      Pink World  1984  TRAAARJ128F9320760   \n",
       "2                                 Young Boy Blues     0  TRAAAVO128F93133D4   \n",
       "3                                I Didn't Mean To     0  TRAAAAW128F429D538   \n",
       "4     The Moon And I (Ordinary Day Album Version)     0  TRAAAMO128F1481E7F   \n",
       "...                                           ...   ...                 ...   \n",
       "9995                               Shattered Life  2005  TRBIJYB128F14AE326   \n",
       "9996                       God Don't Never Change  1989  TRBIJLT12903CE7070   \n",
       "9997                  One the road (to Damnation)  2006  TRBIJFB128F92ED124   \n",
       "9998             The Wonderful World Of The Young  1998  TRBIJNF128F14815A7   \n",
       "9999                              Sentimental Man     0  TRBIJNK128F93093EC   \n",
       "\n",
       "                  Spotify_ID  \n",
       "0     5JeyXbf7CrVQ8DqwFikN0P  \n",
       "1     2dISPmbjb4RKXTORd3KBVp  \n",
       "2     5uN6oY2NGLC6GKoywHKkZA  \n",
       "3     01TR6aAKrA2cI3Z0gnCOsu  \n",
       "4     7ERvcsBBYzSHqQQqlI9xAN  \n",
       "...                      ...  \n",
       "9995  2CQwzG5nbS7ys8CHSlavVg  \n",
       "9996  7N3eI4cyyIPnNEXSxt6yNp  \n",
       "9997  0MS1NrmBWaCpPLFEXV0VMZ  \n",
       "9998  62wqW6Q9eTozrruWPt9Z9i  \n",
       "9999  7n0ShZeoewT4ZOJCmwHdnQ  \n",
       "\n",
       "[10000 rows x 6 columns]"
      ]
     },
     "execution_count": 12,
     "metadata": {},
     "output_type": "execute_result"
    }
   ],
   "source": [
    "data"
   ]
  },
  {
   "cell_type": "code",
   "execution_count": 13,
   "metadata": {
    "ExecuteTime": {
     "end_time": "2019-12-25T03:31:51.611957Z",
     "start_time": "2019-12-25T03:31:50.143638Z"
    }
   },
   "outputs": [],
   "source": [
    "data.to_excel('fil_spotify_id.xls',index=False,header=False)"
   ]
  },
  {
   "cell_type": "code",
   "execution_count": null,
   "metadata": {
    "ExecuteTime": {
     "end_time": "2019-12-23T12:01:45.822873Z",
     "start_time": "2019-12-23T12:01:45.806566Z"
    }
   },
   "outputs": [],
   "source": [
    "ll.count(-999)"
   ]
  },
  {
   "cell_type": "code",
   "execution_count": null,
   "metadata": {},
   "outputs": [],
   "source": []
  }
 ],
 "metadata": {
  "kernelspec": {
   "display_name": "Python 3",
   "language": "python",
   "name": "python3"
  },
  "toc": {
   "base_numbering": 1,
   "nav_menu": {},
   "number_sections": true,
   "sideBar": true,
   "skip_h1_title": false,
   "title_cell": "Table of Contents",
   "title_sidebar": "Contents",
   "toc_cell": false,
   "toc_position": {},
   "toc_section_display": true,
   "toc_window_display": false
  },
  "varInspector": {
   "cols": {
    "lenName": 16,
    "lenType": 16,
    "lenVar": 40
   },
   "kernels_config": {
    "python": {
     "delete_cmd_postfix": "",
     "delete_cmd_prefix": "del ",
     "library": "var_list.py",
     "varRefreshCmd": "print(var_dic_list())"
    },
    "r": {
     "delete_cmd_postfix": ") ",
     "delete_cmd_prefix": "rm(",
     "library": "var_list.r",
     "varRefreshCmd": "cat(var_dic_list()) "
    }
   },
   "types_to_exclude": [
    "module",
    "function",
    "builtin_function_or_method",
    "instance",
    "_Feature"
   ],
   "window_display": false
  }
 },
 "nbformat": 4,
 "nbformat_minor": 2
}
