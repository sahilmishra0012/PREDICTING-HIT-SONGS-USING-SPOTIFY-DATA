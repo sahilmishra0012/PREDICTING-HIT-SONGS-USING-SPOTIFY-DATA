{
 "cells": [
  {
   "cell_type": "code",
   "execution_count": 1,
   "metadata": {
    "ExecuteTime": {
     "end_time": "2019-12-22T18:25:28.807799Z",
     "start_time": "2019-12-22T18:25:28.418225Z"
    }
   },
   "outputs": [],
   "source": [
    "import billboard\n",
    "import time\n",
    "import csv"
   ]
  },
  {
   "cell_type": "code",
   "execution_count": 2,
   "metadata": {
    "ExecuteTime": {
     "end_time": "2019-12-22T18:25:28.858752Z",
     "start_time": "2019-12-22T18:25:28.855036Z"
    }
   },
   "outputs": [],
   "source": [
    "previousDate='2000-09-02'\n",
    "ll=[]"
   ]
  },
  {
   "cell_type": "code",
   "execution_count": 3,
   "metadata": {
    "ExecuteTime": {
     "end_time": "2019-12-22T18:25:32.859542Z",
     "start_time": "2019-12-22T18:25:32.853410Z"
    }
   },
   "outputs": [],
   "source": [
    "def extract_billboard_top_100(previousDate):\n",
    "    for k in range(10000):\n",
    "        time.sleep(100)\n",
    "        chart = billboard.ChartData('hot-100',previousDate)\n",
    "        if chart.previousDate[:4]>='1990':\n",
    "            try:\n",
    "                while chart.previousDate[:4]>='1990':\n",
    "                    ll1=[]\n",
    "                    time.sleep(2)\n",
    "                    chart = billboard.ChartData('hot-100', chart.previousDate)\n",
    "                    for i in chart:\n",
    "                        ll1.append(tuple((i.title,i.artist,chart.date)))\n",
    "                    ll.append(ll1)\n",
    "            except:\n",
    "                print(chart.date)\n",
    "                previousDate=chart.date"
   ]
  },
  {
   "cell_type": "code",
   "execution_count": null,
   "metadata": {
    "ExecuteTime": {
     "end_time": "2019-12-22T18:24:07.340353Z",
     "start_time": "2019-12-22T18:16:39.309071Z"
    }
   },
   "outputs": [],
   "source": [
    "date,bill_list=extract_billboard_top_100(previousDate)"
   ]
  },
  {
   "cell_type": "code",
   "execution_count": null,
   "metadata": {
    "ExecuteTime": {
     "end_time": "2019-12-22T18:24:26.229347Z",
     "start_time": "2019-12-22T18:24:26.035162Z"
    }
   },
   "outputs": [],
   "source": [
    "ll"
   ]
  },
  {
   "cell_type": "code",
   "execution_count": null,
   "metadata": {},
   "outputs": [],
   "source": []
  },
  {
   "cell_type": "code",
   "execution_count": null,
   "metadata": {},
   "outputs": [],
   "source": []
  },
  {
   "cell_type": "code",
   "execution_count": null,
   "metadata": {
    "ExecuteTime": {
     "end_time": "2019-12-22T18:24:34.074966Z",
     "start_time": "2019-12-22T18:24:34.055789Z"
    }
   },
   "outputs": [],
   "source": [
    "with open(\"billboard.csv\", \"a\", newline=\"\") as f:\n",
    "    writer = csv.writer(f)\n",
    "    writer.writerows(ll)"
   ]
  },
  {
   "cell_type": "code",
   "execution_count": null,
   "metadata": {},
   "outputs": [],
   "source": []
  }
 ],
 "metadata": {
  "kernelspec": {
   "display_name": "Python 3",
   "language": "python",
   "name": "python3"
  },
  "language_info": {
   "codemirror_mode": {
    "name": "ipython",
    "version": 3
   },
   "file_extension": ".py",
   "mimetype": "text/x-python",
   "name": "python",
   "nbconvert_exporter": "python",
   "pygments_lexer": "ipython3",
   "version": "3.7.3"
  },
  "toc": {
   "base_numbering": 1,
   "nav_menu": {},
   "number_sections": true,
   "sideBar": true,
   "skip_h1_title": false,
   "title_cell": "Table of Contents",
   "title_sidebar": "Contents",
   "toc_cell": false,
   "toc_position": {},
   "toc_section_display": true,
   "toc_window_display": false
  },
  "varInspector": {
   "cols": {
    "lenName": 16,
    "lenType": 16,
    "lenVar": 40
   },
   "kernels_config": {
    "python": {
     "delete_cmd_postfix": "",
     "delete_cmd_prefix": "del ",
     "library": "var_list.py",
     "varRefreshCmd": "print(var_dic_list())"
    },
    "r": {
     "delete_cmd_postfix": ") ",
     "delete_cmd_prefix": "rm(",
     "library": "var_list.r",
     "varRefreshCmd": "cat(var_dic_list()) "
    }
   },
   "types_to_exclude": [
    "module",
    "function",
    "builtin_function_or_method",
    "instance",
    "_Feature"
   ],
   "window_display": false
  }
 },
 "nbformat": 4,
 "nbformat_minor": 2
}
