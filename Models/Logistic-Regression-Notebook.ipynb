{
 "cells": [
  {
   "cell_type": "code",
   "execution_count": 1,
   "metadata": {
    "ExecuteTime": {
     "end_time": "2020-01-03T05:19:30.549212Z",
     "start_time": "2020-01-03T05:19:30.124391Z"
    }
   },
   "outputs": [],
   "source": [
    "import numpy as np\n",
    "import pandas as pd\n",
    "import matplotlib.pyplot as plt\n",
    "from tqdm import tqdm\n",
    "import warnings\n",
    "warnings.filterwarnings(\"ignore\")"
   ]
  },
  {
   "cell_type": "code",
   "execution_count": 2,
   "metadata": {
    "ExecuteTime": {
     "end_time": "2020-01-03T05:19:31.148860Z",
     "start_time": "2020-01-03T05:19:30.571068Z"
    }
   },
   "outputs": [],
   "source": [
    "data=pd.read_excel('/home/samthekiller/Downloads/Projects/Machine Learning/Spotify/Final Dataset/songs.xls')"
   ]
  },
  {
   "cell_type": "code",
   "execution_count": 3,
   "metadata": {
    "ExecuteTime": {
     "end_time": "2020-01-03T05:19:31.291113Z",
     "start_time": "2020-01-03T05:19:31.208455Z"
    }
   },
   "outputs": [
    {
     "data": {
      "text/html": [
       "<div>\n",
       "<style scoped>\n",
       "    .dataframe tbody tr th:only-of-type {\n",
       "        vertical-align: middle;\n",
       "    }\n",
       "\n",
       "    .dataframe tbody tr th {\n",
       "        vertical-align: top;\n",
       "    }\n",
       "\n",
       "    .dataframe thead th {\n",
       "        text-align: right;\n",
       "    }\n",
       "</style>\n",
       "<table border=\"1\" class=\"dataframe\">\n",
       "  <thead>\n",
       "    <tr style=\"text-align: right;\">\n",
       "      <th></th>\n",
       "      <th>danceability</th>\n",
       "      <th>energy</th>\n",
       "      <th>key</th>\n",
       "      <th>mode</th>\n",
       "      <th>speechiness</th>\n",
       "      <th>acousticness</th>\n",
       "      <th>instrumentalness</th>\n",
       "      <th>liveness</th>\n",
       "      <th>valence</th>\n",
       "      <th>tempo</th>\n",
       "      <th>duration_ms</th>\n",
       "      <th>loudness</th>\n",
       "      <th>is_hit</th>\n",
       "    </tr>\n",
       "  </thead>\n",
       "  <tbody>\n",
       "    <tr>\n",
       "      <td>count</td>\n",
       "      <td>14682.000000</td>\n",
       "      <td>14682.000000</td>\n",
       "      <td>14682.000000</td>\n",
       "      <td>14682.000000</td>\n",
       "      <td>14682.000000</td>\n",
       "      <td>14682.000000</td>\n",
       "      <td>14682.000000</td>\n",
       "      <td>14682.000000</td>\n",
       "      <td>14682.000000</td>\n",
       "      <td>14682.000000</td>\n",
       "      <td>1.468200e+04</td>\n",
       "      <td>14682.000000</td>\n",
       "      <td>14682.000000</td>\n",
       "    </tr>\n",
       "    <tr>\n",
       "      <td>mean</td>\n",
       "      <td>-0.079946</td>\n",
       "      <td>-0.029549</td>\n",
       "      <td>4.609249</td>\n",
       "      <td>-0.006266</td>\n",
       "      <td>-0.583123</td>\n",
       "      <td>-0.448552</td>\n",
       "      <td>-0.595446</td>\n",
       "      <td>-0.482371</td>\n",
       "      <td>-0.155506</td>\n",
       "      <td>119.871835</td>\n",
       "      <td>2.404064e+05</td>\n",
       "      <td>-8.447724</td>\n",
       "      <td>0.630568</td>\n",
       "    </tr>\n",
       "    <tr>\n",
       "      <td>std</td>\n",
       "      <td>26.080135</td>\n",
       "      <td>26.081806</td>\n",
       "      <td>26.443567</td>\n",
       "      <td>26.085725</td>\n",
       "      <td>26.066713</td>\n",
       "      <td>26.071495</td>\n",
       "      <td>26.067194</td>\n",
       "      <td>26.069647</td>\n",
       "      <td>26.078774</td>\n",
       "      <td>41.763557</td>\n",
       "      <td>9.077982e+04</td>\n",
       "      <td>26.180325</td>\n",
       "      <td>0.482667</td>\n",
       "    </tr>\n",
       "    <tr>\n",
       "      <td>min</td>\n",
       "      <td>-999.000000</td>\n",
       "      <td>-999.000000</td>\n",
       "      <td>-999.000000</td>\n",
       "      <td>-999.000000</td>\n",
       "      <td>-999.000000</td>\n",
       "      <td>-999.000000</td>\n",
       "      <td>-999.000000</td>\n",
       "      <td>-999.000000</td>\n",
       "      <td>-999.000000</td>\n",
       "      <td>-999.000000</td>\n",
       "      <td>-9.990000e+02</td>\n",
       "      <td>-999.000000</td>\n",
       "      <td>0.000000</td>\n",
       "    </tr>\n",
       "    <tr>\n",
       "      <td>25%</td>\n",
       "      <td>0.497000</td>\n",
       "      <td>0.510000</td>\n",
       "      <td>2.000000</td>\n",
       "      <td>0.000000</td>\n",
       "      <td>0.034500</td>\n",
       "      <td>0.017500</td>\n",
       "      <td>0.000000</td>\n",
       "      <td>0.092900</td>\n",
       "      <td>0.330000</td>\n",
       "      <td>96.985250</td>\n",
       "      <td>2.004922e+05</td>\n",
       "      <td>-9.451500</td>\n",
       "      <td>0.000000</td>\n",
       "    </tr>\n",
       "    <tr>\n",
       "      <td>50%</td>\n",
       "      <td>0.614500</td>\n",
       "      <td>0.684000</td>\n",
       "      <td>6.000000</td>\n",
       "      <td>1.000000</td>\n",
       "      <td>0.049100</td>\n",
       "      <td>0.098350</td>\n",
       "      <td>0.000005</td>\n",
       "      <td>0.129000</td>\n",
       "      <td>0.530000</td>\n",
       "      <td>119.770500</td>\n",
       "      <td>2.316930e+05</td>\n",
       "      <td>-6.815000</td>\n",
       "      <td>1.000000</td>\n",
       "    </tr>\n",
       "    <tr>\n",
       "      <td>75%</td>\n",
       "      <td>0.722000</td>\n",
       "      <td>0.823000</td>\n",
       "      <td>8.000000</td>\n",
       "      <td>1.000000</td>\n",
       "      <td>0.105000</td>\n",
       "      <td>0.358750</td>\n",
       "      <td>0.001650</td>\n",
       "      <td>0.258000</td>\n",
       "      <td>0.724000</td>\n",
       "      <td>139.841250</td>\n",
       "      <td>2.686000e+05</td>\n",
       "      <td>-5.084250</td>\n",
       "      <td>1.000000</td>\n",
       "    </tr>\n",
       "    <tr>\n",
       "      <td>max</td>\n",
       "      <td>0.986000</td>\n",
       "      <td>1.000000</td>\n",
       "      <td>11.000000</td>\n",
       "      <td>1.000000</td>\n",
       "      <td>0.956000</td>\n",
       "      <td>0.996000</td>\n",
       "      <td>0.991000</td>\n",
       "      <td>0.997000</td>\n",
       "      <td>0.992000</td>\n",
       "      <td>245.941000</td>\n",
       "      <td>4.802553e+06</td>\n",
       "      <td>0.316000</td>\n",
       "      <td>1.000000</td>\n",
       "    </tr>\n",
       "  </tbody>\n",
       "</table>\n",
       "</div>"
      ],
      "text/plain": [
       "       danceability        energy           key          mode   speechiness  \\\n",
       "count  14682.000000  14682.000000  14682.000000  14682.000000  14682.000000   \n",
       "mean      -0.079946     -0.029549      4.609249     -0.006266     -0.583123   \n",
       "std       26.080135     26.081806     26.443567     26.085725     26.066713   \n",
       "min     -999.000000   -999.000000   -999.000000   -999.000000   -999.000000   \n",
       "25%        0.497000      0.510000      2.000000      0.000000      0.034500   \n",
       "50%        0.614500      0.684000      6.000000      1.000000      0.049100   \n",
       "75%        0.722000      0.823000      8.000000      1.000000      0.105000   \n",
       "max        0.986000      1.000000     11.000000      1.000000      0.956000   \n",
       "\n",
       "       acousticness  instrumentalness      liveness       valence  \\\n",
       "count  14682.000000      14682.000000  14682.000000  14682.000000   \n",
       "mean      -0.448552         -0.595446     -0.482371     -0.155506   \n",
       "std       26.071495         26.067194     26.069647     26.078774   \n",
       "min     -999.000000       -999.000000   -999.000000   -999.000000   \n",
       "25%        0.017500          0.000000      0.092900      0.330000   \n",
       "50%        0.098350          0.000005      0.129000      0.530000   \n",
       "75%        0.358750          0.001650      0.258000      0.724000   \n",
       "max        0.996000          0.991000      0.997000      0.992000   \n",
       "\n",
       "              tempo   duration_ms      loudness        is_hit  \n",
       "count  14682.000000  1.468200e+04  14682.000000  14682.000000  \n",
       "mean     119.871835  2.404064e+05     -8.447724      0.630568  \n",
       "std       41.763557  9.077982e+04     26.180325      0.482667  \n",
       "min     -999.000000 -9.990000e+02   -999.000000      0.000000  \n",
       "25%       96.985250  2.004922e+05     -9.451500      0.000000  \n",
       "50%      119.770500  2.316930e+05     -6.815000      1.000000  \n",
       "75%      139.841250  2.686000e+05     -5.084250      1.000000  \n",
       "max      245.941000  4.802553e+06      0.316000      1.000000  "
      ]
     },
     "execution_count": 3,
     "metadata": {},
     "output_type": "execute_result"
    }
   ],
   "source": [
    "data.describe()"
   ]
  },
  {
   "cell_type": "code",
   "execution_count": 4,
   "metadata": {
    "ExecuteTime": {
     "end_time": "2020-01-03T05:19:31.363543Z",
     "start_time": "2020-01-03T05:19:31.358120Z"
    }
   },
   "outputs": [],
   "source": [
    "indexNames=data[data['danceability']==-999].index"
   ]
  },
  {
   "cell_type": "code",
   "execution_count": 5,
   "metadata": {
    "ExecuteTime": {
     "end_time": "2020-01-03T05:19:31.489263Z",
     "start_time": "2020-01-03T05:19:31.417647Z"
    }
   },
   "outputs": [],
   "source": [
    "data.drop(indexNames,inplace=True)"
   ]
  },
  {
   "cell_type": "code",
   "execution_count": 8,
   "metadata": {
    "ExecuteTime": {
     "end_time": "2020-01-03T05:20:46.260570Z",
     "start_time": "2020-01-03T05:20:46.245888Z"
    }
   },
   "outputs": [],
   "source": [
    "data_new=data.drop('SpotifyID',axis=1)"
   ]
  },
  {
   "cell_type": "code",
   "execution_count": 21,
   "metadata": {
    "ExecuteTime": {
     "end_time": "2020-01-03T04:48:11.958673Z",
     "start_time": "2020-01-03T04:48:11.949056Z"
    }
   },
   "outputs": [],
   "source": [
    "data_new=data.drop('SpotifyID',axis=1)"
   ]
  },
  {
   "cell_type": "code",
   "execution_count": 7,
   "metadata": {
    "ExecuteTime": {
     "end_time": "2020-01-03T05:19:31.945890Z",
     "start_time": "2020-01-03T05:19:31.681718Z"
    }
   },
   "outputs": [
    {
     "ename": "NameError",
     "evalue": "name 'data_new' is not defined",
     "output_type": "error",
     "traceback": [
      "\u001b[0;31m---------------------------------------------------------------------------\u001b[0m",
      "\u001b[0;31mNameError\u001b[0m                                 Traceback (most recent call last)",
      "\u001b[0;32m<ipython-input-7-c003907ff5b3>\u001b[0m in \u001b[0;36m<module>\u001b[0;34m\u001b[0m\n\u001b[0;32m----> 1\u001b[0;31m \u001b[0mdata_new\u001b[0m\u001b[0;34m\u001b[0m\u001b[0;34m\u001b[0m\u001b[0m\n\u001b[0m",
      "\u001b[0;31mNameError\u001b[0m: name 'data_new' is not defined"
     ]
    }
   ],
   "source": []
  },
  {
   "cell_type": "code",
   "execution_count": 9,
   "metadata": {
    "ExecuteTime": {
     "end_time": "2020-01-03T05:20:52.396072Z",
     "start_time": "2020-01-03T05:20:52.388086Z"
    }
   },
   "outputs": [],
   "source": [
    "y=data_new['is_hit']"
   ]
  },
  {
   "cell_type": "code",
   "execution_count": 10,
   "metadata": {
    "ExecuteTime": {
     "end_time": "2020-01-03T05:20:53.639519Z",
     "start_time": "2020-01-03T05:20:53.624341Z"
    }
   },
   "outputs": [],
   "source": [
    "data.drop('is_hit',axis=1,inplace=True)"
   ]
  },
  {
   "cell_type": "code",
   "execution_count": 11,
   "metadata": {
    "ExecuteTime": {
     "end_time": "2020-01-03T05:20:54.889791Z",
     "start_time": "2020-01-03T05:20:54.284163Z"
    }
   },
   "outputs": [],
   "source": [
    "from sklearn.model_selection import train_test_split"
   ]
  },
  {
   "cell_type": "code",
   "execution_count": 12,
   "metadata": {
    "ExecuteTime": {
     "end_time": "2020-01-03T05:20:55.291515Z",
     "start_time": "2020-01-03T05:20:55.274464Z"
    }
   },
   "outputs": [],
   "source": [
    "X_train,X_test,y_train,y_test=train_test_split(data_new,y,test_size=0.33,random_state=42)\n",
    "X_train,X_cv,y_train,y_cv=train_test_split(X_train,y_train,test_size=0.33,random_state=42)"
   ]
  },
  {
   "cell_type": "code",
   "execution_count": 13,
   "metadata": {
    "ExecuteTime": {
     "end_time": "2020-01-03T05:20:55.941855Z",
     "start_time": "2020-01-03T05:20:55.935008Z"
    }
   },
   "outputs": [],
   "source": [
    "from sklearn.preprocessing import MinMaxScaler"
   ]
  },
  {
   "cell_type": "code",
   "execution_count": 14,
   "metadata": {
    "ExecuteTime": {
     "end_time": "2020-01-03T05:20:56.341002Z",
     "start_time": "2020-01-03T05:20:56.337775Z"
    }
   },
   "outputs": [],
   "source": [
    "scaler=MinMaxScaler()"
   ]
  },
  {
   "cell_type": "code",
   "execution_count": 15,
   "metadata": {
    "ExecuteTime": {
     "end_time": "2020-01-03T05:20:56.862537Z",
     "start_time": "2020-01-03T05:20:56.845142Z"
    }
   },
   "outputs": [],
   "source": [
    "X_train=scaler.fit_transform(X_train)"
   ]
  },
  {
   "cell_type": "code",
   "execution_count": 16,
   "metadata": {
    "ExecuteTime": {
     "end_time": "2020-01-03T05:20:57.235031Z",
     "start_time": "2020-01-03T05:20:57.226787Z"
    }
   },
   "outputs": [],
   "source": [
    "X_test=scaler.transform(X_test)"
   ]
  },
  {
   "cell_type": "code",
   "execution_count": 17,
   "metadata": {
    "ExecuteTime": {
     "end_time": "2020-01-03T05:20:57.439657Z",
     "start_time": "2020-01-03T05:20:57.433616Z"
    }
   },
   "outputs": [],
   "source": [
    "X_cv=scaler.transform(X_cv)"
   ]
  },
  {
   "cell_type": "code",
   "execution_count": 18,
   "metadata": {
    "ExecuteTime": {
     "end_time": "2020-01-03T05:20:57.808368Z",
     "start_time": "2020-01-03T05:20:57.781571Z"
    }
   },
   "outputs": [],
   "source": [
    "from sklearn.linear_model import LogisticRegression\n",
    "from sklearn.metrics import roc_auc_score\n",
    "from sklearn.metrics import accuracy_score"
   ]
  },
  {
   "cell_type": "code",
   "execution_count": 19,
   "metadata": {
    "ExecuteTime": {
     "end_time": "2020-01-03T05:20:58.679257Z",
     "start_time": "2020-01-03T05:20:58.345960Z"
    }
   },
   "outputs": [
    {
     "name": "stderr",
     "output_type": "stream",
     "text": [
      "100%|██████████| 11/11 [00:00<00:00, 35.11it/s]\n"
     ]
    }
   ],
   "source": [
    "train_auc = []\n",
    "cv_auc = []\n",
    "\n",
    "parameters = {'C':[0.0001,0.0005,0.001,0.005,0.01,0.05,0.1,0.5,1,2.5,5]}\n",
    "\n",
    "for i in tqdm(parameters['C']):\n",
    "    lr = LogisticRegression(C=i)\n",
    "    lr.fit(X_train, y_train)\n",
    "\n",
    "    y_train_pred = lr.predict(X_train)    \n",
    "    y_cv_pred = lr.predict(X_cv)\n",
    "\n",
    "    train_auc.append(roc_auc_score(y_train,y_train_pred))\n",
    "    cv_auc.append(roc_auc_score(y_cv, y_cv_pred))"
   ]
  },
  {
   "cell_type": "code",
   "execution_count": 20,
   "metadata": {
    "ExecuteTime": {
     "end_time": "2020-01-03T05:20:59.255006Z",
     "start_time": "2020-01-03T05:20:59.227148Z"
    }
   },
   "outputs": [
    {
     "name": "stderr",
     "output_type": "stream",
     "text": [
      "100%|██████████| 11/11 [00:00<00:00, 5893.13it/s]\n"
     ]
    }
   ],
   "source": [
    "import math\n",
    "log_alphas=[]\n",
    "for a in tqdm(parameters['C']):\n",
    "    b = math.log10(a)\n",
    "    log_alphas.append(b)"
   ]
  },
  {
   "cell_type": "code",
   "execution_count": 21,
   "metadata": {
    "ExecuteTime": {
     "end_time": "2020-01-03T05:21:00.191535Z",
     "start_time": "2020-01-03T05:20:59.883630Z"
    }
   },
   "outputs": [
    {
     "data": {
      "image/png": "[encoded data removed]",
      "text/plain": [
       "<Figure size 1440x1080 with 1 Axes>"
      ]
     },
     "metadata": {
      "needs_background": "light"
     },
     "output_type": "display_data"
    }
   ],
   "source": [
    "plt.figure(figsize=(20,15))\n",
    "plt.plot(log_alphas, train_, label='Train AUC')\n",
    "plt.plot(log_alphas, test_accuracy, label='CV AUC')\n",
    "\n",
    "plt.legend()\n",
    "plt.xlabel(\"C: hyperparameter\")\n",
    "plt.ylabel(\"AUC\")\n",
    "plt.title(\"ERROR PLOTS\")\n",
    "plt.grid()\n",
    "plt.show()"
   ]
  },
  {
   "cell_type": "code",
   "execution_count": 22,
   "metadata": {
    "ExecuteTime": {
     "end_time": "2020-01-03T05:21:03.034671Z",
     "start_time": "2020-01-03T05:21:02.981572Z"
    },
    "scrolled": true
   },
   "outputs": [],
   "source": [
    "from sklearn.metrics import roc_curve, auc\n",
    "\n",
    "lr = LogisticRegression(C=0.01)\n",
    "lr.fit(X_train, y_train)\n",
    "# roc_auc_score(y_true, y_score) the 2nd parameter should be probability estimates of the positive class\n",
    "# not the predicted outputs\n",
    "\n",
    "y_train_pred = lr.predict(X_train)    \n",
    "y_test_pred = lr.predict(X_test)\n"
   ]
  },
  {
   "cell_type": "code",
   "execution_count": 23,
   "metadata": {
    "ExecuteTime": {
     "end_time": "2020-01-03T05:21:03.583282Z",
     "start_time": "2020-01-03T05:21:03.256550Z"
    }
   },
   "outputs": [
    {
     "data": {
      "text/plain": [
       "1.0"
      ]
     },
     "execution_count": 23,
     "metadata": {},
     "output_type": "execute_result"
    }
   ],
   "source": [
    "accuracy_score(y_train,y_train_pred)"
   ]
  },
  {
   "cell_type": "code",
   "execution_count": 24,
   "metadata": {
    "ExecuteTime": {
     "end_time": "2020-01-03T05:21:03.767422Z",
     "start_time": "2020-01-03T05:21:03.763096Z"
    }
   },
   "outputs": [
    {
     "data": {
      "text/plain": [
       "1.0"
      ]
     },
     "execution_count": 24,
     "metadata": {},
     "output_type": "execute_result"
    }
   ],
   "source": [
    "accuracy_score(y_test, y_test_pred)"
   ]
  },
  {
   "cell_type": "code",
   "execution_count": null,
   "metadata": {},
   "outputs": [],
   "source": []
  }
 ],
 "metadata": {
  "kernelspec": {
   "display_name": "Python 3",
   "language": "python",
   "name": "python3"
  },
  "language_info": {
   "codemirror_mode": {
    "name": "ipython",
    "version": 3
   },
   "file_extension": ".py",
   "mimetype": "text/x-python",
   "name": "python",
   "nbconvert_exporter": "python",
   "pygments_lexer": "ipython3",
   "version": "3.7.3"
  },
  "toc": {
   "base_numbering": 1,
   "nav_menu": {},
   "number_sections": true,
   "sideBar": true,
   "skip_h1_title": false,
   "title_cell": "Table of Contents",
   "title_sidebar": "Contents",
   "toc_cell": false,
   "toc_position": {},
   "toc_section_display": true,
   "toc_window_display": false
  },
  "varInspector": {
   "cols": {
    "lenName": 16,
    "lenType": 16,
    "lenVar": 40
   },
   "kernels_config": {
    "python": {
     "delete_cmd_postfix": "",
     "delete_cmd_prefix": "del ",
     "library": "var_list.py",
     "varRefreshCmd": "print(var_dic_list())"
    },
    "r": {
     "delete_cmd_postfix": ") ",
     "delete_cmd_prefix": "rm(",
     "library": "var_list.r",
     "varRefreshCmd": "cat(var_dic_list()) "
    }
   },
   "types_to_exclude": [
    "module",
    "function",
    "builtin_function_or_method",
    "instance",
    "_Feature"
   ],
   "window_display": false
  }
 },
 "nbformat": 4,
 "nbformat_minor": 2
}
