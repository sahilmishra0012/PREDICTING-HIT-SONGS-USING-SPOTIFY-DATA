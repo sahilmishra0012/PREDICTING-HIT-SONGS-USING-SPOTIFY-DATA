{
 "cells": [
  {
   "cell_type": "code",
   "execution_count": 42,
   "metadata": {
    "ExecuteTime": {
     "end_time": "2019-12-23T07:12:07.167832Z",
     "start_time": "2019-12-23T07:12:07.145358Z"
    }
   },
   "outputs": [],
   "source": [
    "import spotipy\n",
    "from spotipy.oauth2 import SpotifyClientCredentials\n",
    "import pandas as pd\n",
    "from tqdm import tqdm"
   ]
  },
  {
   "cell_type": "code",
   "execution_count": 2,
   "metadata": {
    "ExecuteTime": {
     "end_time": "2019-12-23T07:03:41.809980Z",
     "start_time": "2019-12-23T07:03:41.797319Z"
    }
   },
   "outputs": [],
   "source": [
    "client_credentials = SpotifyClientCredentials(client_id = '69d5ceec0f8d42299ac8fce0969a6beb', client_secret = 'f35d4f91afc64282832550504da49790')\n",
    "spotify = spotipy.Spotify(client_credentials_manager = client_credentials)"
   ]
  },
  {
   "cell_type": "code",
   "execution_count": 3,
   "metadata": {
    "ExecuteTime": {
     "end_time": "2019-12-23T07:03:42.984655Z",
     "start_time": "2019-12-23T07:03:42.711607Z"
    }
   },
   "outputs": [],
   "source": [
    "data=pd.read_excel('file.xls')\n"
   ]
  },
  {
   "cell_type": "code",
   "execution_count": 28,
   "metadata": {
    "ExecuteTime": {
     "end_time": "2019-12-23T07:09:12.060608Z",
     "start_time": "2019-12-23T07:09:12.056513Z"
    }
   },
   "outputs": [],
   "source": [
    "artist='Clp'\n",
    "track='Insatiable '"
   ]
  },
  {
   "cell_type": "code",
   "execution_count": 29,
   "metadata": {
    "ExecuteTime": {
     "end_time": "2019-12-23T07:09:12.693408Z",
     "start_time": "2019-12-23T07:09:12.447240Z"
    }
   },
   "outputs": [],
   "source": [
    "results = spotify.search(q='artist:' + artist + ' track:' + track, type='track')"
   ]
  },
  {
   "cell_type": "code",
   "execution_count": 43,
   "metadata": {
    "ExecuteTime": {
     "end_time": "2019-12-23T07:44:03.133350Z",
     "start_time": "2019-12-23T07:12:14.876046Z"
    }
   },
   "outputs": [
    {
     "name": "stderr",
     "output_type": "stream",
     "text": [
      "6761it [31:48,  3.28it/s]"
     ]
    },
    {
     "ename": "TypeError",
     "evalue": "can only concatenate str (not \"float\") to str",
     "output_type": "error",
     "traceback": [
      "\u001b[0;31m---------------------------------------------------------------------------\u001b[0m",
      "\u001b[0;31mTypeError\u001b[0m                                 Traceback (most recent call last)",
      "\u001b[0;32m<ipython-input-43-729974b5f2b5>\u001b[0m in \u001b[0;36m<module>\u001b[0;34m\u001b[0m\n\u001b[1;32m      1\u001b[0m \u001b[0mll\u001b[0m\u001b[0;34m=\u001b[0m\u001b[0;34m[\u001b[0m\u001b[0;34m]\u001b[0m\u001b[0;34m\u001b[0m\u001b[0;34m\u001b[0m\u001b[0m\n\u001b[1;32m      2\u001b[0m \u001b[0;32mfor\u001b[0m \u001b[0mi\u001b[0m \u001b[0;32min\u001b[0m \u001b[0mtqdm\u001b[0m\u001b[0;34m(\u001b[0m\u001b[0mdata\u001b[0m\u001b[0;34m.\u001b[0m\u001b[0miterrows\u001b[0m\u001b[0;34m(\u001b[0m\u001b[0;34m)\u001b[0m\u001b[0;34m)\u001b[0m\u001b[0;34m:\u001b[0m\u001b[0;34m\u001b[0m\u001b[0;34m\u001b[0m\u001b[0m\n\u001b[0;32m----> 3\u001b[0;31m     \u001b[0mresults\u001b[0m \u001b[0;34m=\u001b[0m \u001b[0mspotify\u001b[0m\u001b[0;34m.\u001b[0m\u001b[0msearch\u001b[0m\u001b[0;34m(\u001b[0m\u001b[0mq\u001b[0m\u001b[0;34m=\u001b[0m\u001b[0;34m'artist:'\u001b[0m \u001b[0;34m+\u001b[0m \u001b[0mi\u001b[0m\u001b[0;34m[\u001b[0m\u001b[0;36m1\u001b[0m\u001b[0;34m]\u001b[0m\u001b[0;34m[\u001b[0m\u001b[0;34m'Artist'\u001b[0m\u001b[0;34m]\u001b[0m \u001b[0;34m+\u001b[0m \u001b[0;34m' track:'\u001b[0m \u001b[0;34m+\u001b[0m \u001b[0mi\u001b[0m\u001b[0;34m[\u001b[0m\u001b[0;36m1\u001b[0m\u001b[0;34m]\u001b[0m\u001b[0;34m[\u001b[0m\u001b[0;34m'Track'\u001b[0m\u001b[0;34m]\u001b[0m\u001b[0;34m,\u001b[0m \u001b[0mtype\u001b[0m\u001b[0;34m=\u001b[0m\u001b[0;34m'track'\u001b[0m\u001b[0;34m)\u001b[0m\u001b[0;34m\u001b[0m\u001b[0;34m\u001b[0m\u001b[0m\n\u001b[0m\u001b[1;32m      4\u001b[0m     \u001b[0;32mif\u001b[0m \u001b[0mlen\u001b[0m\u001b[0;34m(\u001b[0m\u001b[0mresults\u001b[0m\u001b[0;34m[\u001b[0m\u001b[0;34m'tracks'\u001b[0m\u001b[0;34m]\u001b[0m\u001b[0;34m[\u001b[0m\u001b[0;34m'items'\u001b[0m\u001b[0;34m]\u001b[0m\u001b[0;34m)\u001b[0m\u001b[0;34m!=\u001b[0m\u001b[0;36m0\u001b[0m\u001b[0;34m:\u001b[0m\u001b[0;34m\u001b[0m\u001b[0;34m\u001b[0m\u001b[0m\n\u001b[1;32m      5\u001b[0m         \u001b[0mll\u001b[0m\u001b[0;34m.\u001b[0m\u001b[0mappend\u001b[0m\u001b[0;34m(\u001b[0m\u001b[0mresults\u001b[0m\u001b[0;34m[\u001b[0m\u001b[0;34m'tracks'\u001b[0m\u001b[0;34m]\u001b[0m\u001b[0;34m[\u001b[0m\u001b[0;34m'items'\u001b[0m\u001b[0;34m]\u001b[0m\u001b[0;34m[\u001b[0m\u001b[0;36m0\u001b[0m\u001b[0;34m]\u001b[0m\u001b[0;34m[\u001b[0m\u001b[0;34m'id'\u001b[0m\u001b[0;34m]\u001b[0m\u001b[0;34m)\u001b[0m\u001b[0;34m\u001b[0m\u001b[0;34m\u001b[0m\u001b[0m\n",
      "\u001b[0;31mTypeError\u001b[0m: can only concatenate str (not \"float\") to str"
     ]
    }
   ],
   "source": [
    "ll=[]\n",
    "for i in tqdm(data.iterrows()):\n",
    "    results = spotify.search(q='artist:' + i[1]['Artist'] + ' track:' + i[1]['Track'], type='track')\n",
    "    if len(results['tracks']['items'])!=0:\n",
    "        ll.append(results['tracks']['items'][0]['id'])\n",
    "    else:\n",
    "        ll.append(-999)"
   ]
  },
  {
   "cell_type": "code",
   "execution_count": 51,
   "metadata": {
    "ExecuteTime": {
     "end_time": "2019-12-23T07:48:08.222905Z",
     "start_time": "2019-12-23T07:48:08.203343Z"
    }
   },
   "outputs": [],
   "source": [
    "lk.extend([0] * (10000 - len(lk)))"
   ]
  },
  {
   "cell_type": "code",
   "execution_count": 56,
   "metadata": {
    "ExecuteTime": {
     "end_time": "2019-12-23T07:48:47.830735Z",
     "start_time": "2019-12-23T07:48:47.819646Z"
    }
   },
   "outputs": [],
   "source": [
    "data['Spotify_ID']=ll"
   ]
  },
  {
   "cell_type": "code",
   "execution_count": 58,
   "metadata": {
    "ExecuteTime": {
     "end_time": "2019-12-23T07:49:00.723244Z",
     "start_time": "2019-12-23T07:49:00.704165Z"
    }
   },
   "outputs": [
    {
     "data": {
      "text/html": [
       "<div>\n",
       "<style scoped>\n",
       "    .dataframe tbody tr th:only-of-type {\n",
       "        vertical-align: middle;\n",
       "    }\n",
       "\n",
       "    .dataframe tbody tr th {\n",
       "        vertical-align: top;\n",
       "    }\n",
       "\n",
       "    .dataframe thead th {\n",
       "        text-align: right;\n",
       "    }\n",
       "</style>\n",
       "<table border=\"1\" class=\"dataframe\">\n",
       "  <thead>\n",
       "    <tr style=\"text-align: right;\">\n",
       "      <th></th>\n",
       "      <th>Artist</th>\n",
       "      <th>Album</th>\n",
       "      <th>Track</th>\n",
       "      <th>Year</th>\n",
       "      <th>MSD ID</th>\n",
       "      <th>Spotify_ID</th>\n",
       "    </tr>\n",
       "  </thead>\n",
       "  <tbody>\n",
       "    <tr>\n",
       "      <td>0</td>\n",
       "      <td>Sonora Santanera</td>\n",
       "      <td>Las Numero 1 De La Sonora Santanera</td>\n",
       "      <td>Amor De Cabaret</td>\n",
       "      <td>0</td>\n",
       "      <td>TRAAADZ128F9348C2E</td>\n",
       "      <td>5JeyXbf7CrVQ8DqwFikN0P</td>\n",
       "    </tr>\n",
       "    <tr>\n",
       "      <td>1</td>\n",
       "      <td>Planet P Project</td>\n",
       "      <td>Pink World</td>\n",
       "      <td>Pink World</td>\n",
       "      <td>1984</td>\n",
       "      <td>TRAAARJ128F9320760</td>\n",
       "      <td>2dISPmbjb4RKXTORd3KBVp</td>\n",
       "    </tr>\n",
       "    <tr>\n",
       "      <td>2</td>\n",
       "      <td>JennyAnyKind</td>\n",
       "      <td>I Need You</td>\n",
       "      <td>Young Boy Blues</td>\n",
       "      <td>0</td>\n",
       "      <td>TRAAAVO128F93133D4</td>\n",
       "      <td>5uN6oY2NGLC6GKoywHKkZA</td>\n",
       "    </tr>\n",
       "    <tr>\n",
       "      <td>3</td>\n",
       "      <td>Casual</td>\n",
       "      <td>Fear Itself</td>\n",
       "      <td>I Didn't Mean To</td>\n",
       "      <td>0</td>\n",
       "      <td>TRAAAAW128F429D538</td>\n",
       "      <td>01TR6aAKrA2cI3Z0gnCOsu</td>\n",
       "    </tr>\n",
       "    <tr>\n",
       "      <td>4</td>\n",
       "      <td>Jeff And Sheri Easter</td>\n",
       "      <td>Ordinary Day</td>\n",
       "      <td>The Moon And I (Ordinary Day Album Version)</td>\n",
       "      <td>0</td>\n",
       "      <td>TRAAAMO128F1481E7F</td>\n",
       "      <td>7ERvcsBBYzSHqQQqlI9xAN</td>\n",
       "    </tr>\n",
       "  </tbody>\n",
       "</table>\n",
       "</div>"
      ],
      "text/plain": [
       "                  Artist                                Album  \\\n",
       "0       Sonora Santanera  Las Numero 1 De La Sonora Santanera   \n",
       "1       Planet P Project                           Pink World   \n",
       "2           JennyAnyKind                           I Need You   \n",
       "3                 Casual                          Fear Itself   \n",
       "4  Jeff And Sheri Easter                         Ordinary Day   \n",
       "\n",
       "                                         Track  Year              MSD ID  \\\n",
       "0                              Amor De Cabaret     0  TRAAADZ128F9348C2E   \n",
       "1                                   Pink World  1984  TRAAARJ128F9320760   \n",
       "2                              Young Boy Blues     0  TRAAAVO128F93133D4   \n",
       "3                             I Didn't Mean To     0  TRAAAAW128F429D538   \n",
       "4  The Moon And I (Ordinary Day Album Version)     0  TRAAAMO128F1481E7F   \n",
       "\n",
       "               Spotify_ID  \n",
       "0  5JeyXbf7CrVQ8DqwFikN0P  \n",
       "1  2dISPmbjb4RKXTORd3KBVp  \n",
       "2  5uN6oY2NGLC6GKoywHKkZA  \n",
       "3  01TR6aAKrA2cI3Z0gnCOsu  \n",
       "4  7ERvcsBBYzSHqQQqlI9xAN  "
      ]
     },
     "execution_count": 58,
     "metadata": {},
     "output_type": "execute_result"
    }
   ],
   "source": [
    "data.head()"
   ]
  },
  {
   "cell_type": "code",
   "execution_count": null,
   "metadata": {},
   "outputs": [],
   "source": []
  }
 ],
 "metadata": {
  "kernelspec": {
   "display_name": "Python 3",
   "language": "python",
   "name": "python3"
  },
  "language_info": {
   "codemirror_mode": {
    "name": "ipython",
    "version": 3
   },
   "file_extension": ".py",
   "mimetype": "text/x-python",
   "name": "python",
   "nbconvert_exporter": "python",
   "pygments_lexer": "ipython3",
   "version": "3.7.3"
  },
  "toc": {
   "base_numbering": 1,
   "nav_menu": {},
   "number_sections": true,
   "sideBar": true,
   "skip_h1_title": false,
   "title_cell": "Table of Contents",
   "title_sidebar": "Contents",
   "toc_cell": false,
   "toc_position": {},
   "toc_section_display": true,
   "toc_window_display": false
  },
  "varInspector": {
   "cols": {
    "lenName": 16,
    "lenType": 16,
    "lenVar": 40
   },
   "kernels_config": {
    "python": {
     "delete_cmd_postfix": "",
     "delete_cmd_prefix": "del ",
     "library": "var_list.py",
     "varRefreshCmd": "print(var_dic_list())"
    },
    "r": {
     "delete_cmd_postfix": ") ",
     "delete_cmd_prefix": "rm(",
     "library": "var_list.r",
     "varRefreshCmd": "cat(var_dic_list()) "
    }
   },
   "types_to_exclude": [
    "module",
    "function",
    "builtin_function_or_method",
    "instance",
    "_Feature"
   ],
   "window_display": false
  }
 },
 "nbformat": 4,
 "nbformat_minor": 2
}
