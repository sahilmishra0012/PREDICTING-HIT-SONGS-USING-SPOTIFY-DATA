{
 "cells": [
  {
   "cell_type": "code",
   "execution_count": 1,
   "metadata": {
    "ExecuteTime": {
     "end_time": "2019-12-22T16:12:26.485624Z",
     "start_time": "2019-12-22T16:12:25.752120Z"
    }
   },
   "outputs": [],
   "source": [
    "import spotipy\n",
    "from spotipy.oauth2 import SpotifyClientCredentials"
   ]
  },
  {
   "cell_type": "code",
   "execution_count": 41,
   "metadata": {
    "ExecuteTime": {
     "end_time": "2019-12-22T17:53:22.025646Z",
     "start_time": "2019-12-22T17:53:22.012196Z"
    }
   },
   "outputs": [],
   "source": [
    "name=\"Counting Stars\""
   ]
  },
  {
   "cell_type": "code",
   "execution_count": 42,
   "metadata": {
    "ExecuteTime": {
     "end_time": "2019-12-22T17:53:22.867960Z",
     "start_time": "2019-12-22T17:53:22.479114Z"
    }
   },
   "outputs": [],
   "source": [
    "client_credentials = SpotifyClientCredentials(client_id = '69d5ceec0f8d42299ac8fce0969a6beb', client_secret = 'f35d4f91afc64282832550504da49790')\n",
    "\n",
    "spotify = spotipy.Spotify(client_credentials_manager = client_credentials)\n",
    "results = spotify.search(q= name, type='track')"
   ]
  },
  {
   "cell_type": "code",
   "execution_count": 43,
   "metadata": {
    "ExecuteTime": {
     "end_time": "2019-12-22T17:53:23.239666Z",
     "start_time": "2019-12-22T17:53:23.229605Z"
    }
   },
   "outputs": [
    {
     "data": {
      "text/plain": [
       "'6sy3LkhNFjJWlaeSMNwQ62'"
      ]
     },
     "execution_count": 43,
     "metadata": {},
     "output_type": "execute_result"
    }
   ],
   "source": [
    "results['tracks']['items'][0]['id']"
   ]
  },
  {
   "cell_type": "code",
   "execution_count": 14,
   "metadata": {
    "ExecuteTime": {
     "end_time": "2019-12-22T17:07:08.437917Z",
     "start_time": "2019-12-22T17:07:08.112806Z"
    },
    "scrolled": true
   },
   "outputs": [
    {
     "data": {
      "text/plain": [
       "{'danceability': 0.727,\n",
       " 'energy': 0.606,\n",
       " 'key': 0,\n",
       " 'loudness': -4.843,\n",
       " 'mode': 1,\n",
       " 'speechiness': 0.412,\n",
       " 'acousticness': 0.0315,\n",
       " 'instrumentalness': 2.15e-06,\n",
       " 'liveness': 0.176,\n",
       " 'valence': 0.52,\n",
       " 'tempo': 172.068,\n",
       " 'type': 'audio_features',\n",
       " 'id': '27eOHLIdWzqzZawiRSEi9s',\n",
       " 'uri': 'spotify:track:27eOHLIdWzqzZawiRSEi9s',\n",
       " 'track_href': 'https://api.spotify.com/v1/tracks/27eOHLIdWzqzZawiRSEi9s',\n",
       " 'analysis_url': 'https://api.spotify.com/v1/audio-analysis/27eOHLIdWzqzZawiRSEi9s',\n",
       " 'duration_ms': 169587,\n",
       " 'time_signature': 4}"
      ]
     },
     "execution_count": 14,
     "metadata": {},
     "output_type": "execute_result"
    }
   ],
   "source": []
  },
  {
   "cell_type": "code",
   "execution_count": 6,
   "metadata": {
    "ExecuteTime": {
     "end_time": "2019-12-22T16:12:39.225059Z",
     "start_time": "2019-12-22T16:12:39.196996Z"
    }
   },
   "outputs": [
    {
     "data": {
      "text/plain": [
       "[None]"
      ]
     },
     "execution_count": 6,
     "metadata": {},
     "output_type": "execute_result"
    }
   ],
   "source": [
    "features"
   ]
  },
  {
   "cell_type": "code",
   "execution_count": null,
   "metadata": {},
   "outputs": [],
   "source": []
  }
 ],
 "metadata": {
  "kernelspec": {
   "display_name": "Python 3",
   "language": "python",
   "name": "python3"
  },
  "language_info": {
   "codemirror_mode": {
    "name": "ipython",
    "version": 3
   },
   "file_extension": ".py",
   "mimetype": "text/x-python",
   "name": "python",
   "nbconvert_exporter": "python",
   "pygments_lexer": "ipython3",
   "version": "3.7.3"
  },
  "toc": {
   "base_numbering": 1,
   "nav_menu": {},
   "number_sections": true,
   "sideBar": true,
   "skip_h1_title": false,
   "title_cell": "Table of Contents",
   "title_sidebar": "Contents",
   "toc_cell": false,
   "toc_position": {},
   "toc_section_display": true,
   "toc_window_display": false
  },
  "varInspector": {
   "cols": {
    "lenName": 16,
    "lenType": 16,
    "lenVar": 40
   },
   "kernels_config": {
    "python": {
     "delete_cmd_postfix": "",
     "delete_cmd_prefix": "del ",
     "library": "var_list.py",
     "varRefreshCmd": "print(var_dic_list())"
    },
    "r": {
     "delete_cmd_postfix": ") ",
     "delete_cmd_prefix": "rm(",
     "library": "var_list.r",
     "varRefreshCmd": "cat(var_dic_list()) "
    }
   },
   "types_to_exclude": [
    "module",
    "function",
    "builtin_function_or_method",
    "instance",
    "_Feature"
   ],
   "window_display": false
  }
 },
 "nbformat": 4,
 "nbformat_minor": 2
}
