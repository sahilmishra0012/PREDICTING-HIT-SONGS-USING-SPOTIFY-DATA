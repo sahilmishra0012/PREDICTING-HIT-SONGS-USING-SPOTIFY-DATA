{
 "cells": [
  {
   "cell_type": "code",
   "execution_count": 1,
   "metadata": {
    "ExecuteTime": {
     "end_time": "2019-12-05T09:20:21.907457Z",
     "start_time": "2019-12-05T09:20:21.692151Z"
    }
   },
   "outputs": [],
   "source": [
    "import billboard"
   ]
  },
  {
   "cell_type": "code",
   "execution_count": 2,
   "metadata": {
    "ExecuteTime": {
     "end_time": "2019-12-05T09:20:26.949653Z",
     "start_time": "2019-12-05T09:20:21.909331Z"
    }
   },
   "outputs": [
    {
     "name": "stdout",
     "output_type": "stream",
     "text": [
      "['hot-100', 'billboard-200', 'artist-100', 'social-50', 'streaming-songs', 'radio-songs', 'digital-song-sales', 'on-demand-songs', 'top-album-sales', 'current-albums', 'catalog-albums', 'independent-albums', 'soundtracks', 'vinyl-albums', 'greatest-of-all-time-artists', 'greatest-billboard-200-albums', 'greatest-billboard-200-artists', 'greatest-hot-100-singles', 'greatest-hot-100-artists', 'greatest-hot-100-songs-by-women', 'greatest-hot-100-women-artists', 'greatest-billboard-200-albums-by-women', 'greatest-billboard-200-women-artists', 'greatest-billboards-top-songs-80s', 'greatest-billboards-top-songs-90s', 'greatest-of-all-time-pop-songs', 'greatest-of-all-time-pop-songs-artists', 'greatest-adult-pop-songs', 'greatest-adult-pop-artists', 'greatest-country-songs', 'greatest-country-albums', 'greatest-country-artists', 'greatest-hot-latin-songs', 'greatest-hot-latin-songs-artists', 'greatest-top-dance-club-artists', 'greatest-r-b-hip-hop-songs', 'greatest-r-b-hip-hop-albums', 'greatest-r-b-hip-hop-artists', 'greatest-alternative-songs', 'greatest-alternative-artists', 'pop-songs', 'pop-digital-song-sales', 'adult-contemporary', 'hot-adult-contemporary-recurrents', 'adult-pop-songs', 'hot-adult-40-recurrents', 'country-songs', 'country-albums', 'country-album-sales', 'country-catalog-albums', 'country-streaming-songs', 'country-airplay', 'country-recurrent-airplay', 'country-digital-song-sales', 'bluegrass-albums', 'americana-folk-albums', 'americana-folk-album-sales', 'rock-songs', 'rock-albums', 'rock-album-sales', 'rock-streaming-songs', 'rock-airplay', 'rock-digital-song-sales', 'alternative-songs', 'alternative-albums', 'alternative-album-sales', 'alternative-digital-song-sales', 'triple-a', 'hot-mainstream-rock-tracks', 'hard-rock-albums', 'hard-rock-album-sales', 'hard-rock-digital-song-sales', 'r-b-hip-hop-songs', 'r-b-hip-hop-albums', 'randb-hip-hop-album-sales', 'r-and-b-hip-hop-catalog-albums', 'r-and-b-hip-hop-streaming-songs', 'hot-r-and-b-hip-hop-airplay', 'hot-r-and-b-hip-hop-recurrent-airplay', 'r-and-b-hip-hop-digital-song-sales', 'r-and-b-songs', 'r-and-b-albums', 'randb-album-sales', 'r-and-b-streaming-songs', 'r-and-b-digital-song-sales', 'rap-song', 'rap-albums', 'rap-album-sales', 'rap-streaming-songs', 'hot-rap-tracks', 'rap-digital-song-sales', 'mainstream-r-and-b-hip-hop', 'hot-adult-r-and-b-airplay', 'rhythmic-40', 'latin-songs', 'latin-albums', 'latin-album-sales', 'latin-streaming-songs', 'latin-airplay', 'latin-recurrent-airplay', 'latin-digital-song-sales', 'regional-mexican-albums', 'latin-regional-mexican-airplay', 'regional-mexican-digital-song-sales', 'latin-pop-albums', 'latin-pop-airplay', 'latin-pop-digital-song-sales', 'tropical-albums', 'latin-tropical-airplay', 'tropical-digital-song-sales', 'latin-rhythm-albums', 'latin-rhythm-airplay', 'latin-rhythm-digital-song-sales', 'dance-electronic-songs', 'dance-electronic-albums', 'dance-electronic-album-sales', 'dance-electronic-streaming-songs', 'dance-electronic-digital-song-sales', 'hot-dance-airplay', 'dance-club-play-songs', 'christian-songs', 'christian-albums', 'christian-album-sales', 'christian-streaming-songs', 'christian-airplay', 'christian-digital-song-sales', 'hot-christian-adult-contemporary', 'gospel-songs', 'gospel-albums', 'gospel-album-sales', 'gospel-streaming-songs', 'gospel-airplay', 'gospel-digital-song-sales', 'classical-albums', 'classical-crossover-albums', 'traditional-classic-albums', 'classical-budget-midline-albums', 'classical-digital-song-sales', 'jazz-albums', 'contemporary-jazz', 'traditional-jazz-albums', 'jazz-songs', 'jazz-digital-song-sales', 'emerging-artists', 'heatseekers-albums', 'heatseekers-east-north-central', 'heatseekers-middle-atlantic', 'heatseekers-mountain', 'heatseekers-northeast', 'heatseekers-pacific', 'heatseekers-south-atlantic', 'heatseekers-south-central', 'heatseekers-west-north-central', 'lyricfind-global', 'lyricfind-us', 'next-big-sound-25', 'bandsintown-rising-us', 'bandsintown-rising-global', 'bandsintown-top-us', 'bandsintown-top-global', 'hot-holiday-songs', 'holiday-albums', 'holiday-album-sales', 'holiday-streaming-songs', 'holiday-songs', 'holiday-season-digital-song-sales', 'summer-songs', 'canadian-hot-100', 'canadian-albums', 'hot-canada-digital-song-sales', 'canada-emerging-artists', 'canada-ac', 'canada-all-format-airplay', 'canada-chr-top-40', 'canada-country', 'canada-hot-ac', 'canada-rock', 'mexico', 'mexico-ingles', 'mexico-popular', 'mexico-espanol', 'japan-hot-100', 'k-pop-hot-100', 'billboard-china-social-chart', 'billboard-argentina-hot-100', 'official-uk-songs', 'official-uk-albums', 'uk-digital-song-sales', 'euro-digital-song-sales', 'austria-digital-songs-sales', 'belgium-digital-songs-sales', 'denmark-digital-song-sales', 'finland-digital-song-sales', 'france-digital-song-sales', 'germany-songs', 'german-albums', 'germany-digital-song-sales', 'greece-albums', 'greece-digital-song-sales', 'ireland-digital-song-sales', 'italy-albums', 'italy-digital-song-sales', 'luxembourg-digital-song-sales', 'netherlands-digital-song-sales', 'norway-digital-song-sales', 'portugal-digital-song-sales', 'spain-digital-song-sales', 'sweden-digital-song-sales', 'switzerland-digital-song-sales', 'australian-albums', 'australia-digital-song-sales', 'new-zealand-digital-song-sales', 'blues-albums', 'blues-digital-song-sales', 'bubbling-under-hot-100-singles', 'bubbling-under-r-and-b-hip-hop-singles', 'cast-albums', 'catalog-album-sales', 'comedy-albums', 'comedy-digital-track-sales', 'compilation-albums', 'digital-albums', 'hot-singles-recurrents', 'internet-albums', 'kids-albums', 'kid-digital-song-sales', 'music-video', 'new-age-albums', 'new-age-digital-song-sales', 'hot-100-recurrent-airplay', 'reggae-albums', 'reggae-digital-song-sales', 'soundtrack-sales', 'tastemaker-albums', 'world-albums', 'world-digital-song-sales']\n"
     ]
    }
   ],
   "source": [
    "print(billboard.charts())"
   ]
  },
  {
   "cell_type": "code",
   "execution_count": 3,
   "metadata": {
    "ExecuteTime": {
     "end_time": "2019-12-05T09:20:35.125476Z",
     "start_time": "2019-12-05T09:20:26.951682Z"
    }
   },
   "outputs": [],
   "source": [
    "chart = billboard.ChartData('billboard-200')"
   ]
  },
  {
   "cell_type": "code",
   "execution_count": 4,
   "metadata": {
    "ExecuteTime": {
     "end_time": "2019-12-05T09:20:35.131937Z",
     "start_time": "2019-12-05T09:20:35.127054Z"
    }
   },
   "outputs": [
    {
     "name": "stdout",
     "output_type": "stream",
     "text": [
      "Chart Name=> billboard-200\n",
      "Chart Title Billboard 200\n",
      "Chart Date 2019-12-07\n",
      "Previous Chart Date 2019-11-30\n"
     ]
    }
   ],
   "source": [
    "print(\"Chart Name=>\",chart.name)\n",
    "print(\"Chart Title\",chart.title)\n",
    "print(\"Chart Date\",chart.date)\n",
    "print(\"Previous Chart Date\",chart.previousDate)"
   ]
  },
  {
   "cell_type": "code",
   "execution_count": 5,
   "metadata": {
    "ExecuteTime": {
     "end_time": "2019-12-05T09:20:35.277913Z",
     "start_time": "2019-12-05T09:20:35.134299Z"
    },
    "scrolled": false
   },
   "outputs": [
    {
     "data": {
      "text/plain": [
       "[billboard.ChartEntry(title='A Love Letter To You 4', artist='Trippie Redd'),\n",
       " billboard.ChartEntry(title='9', artist='Jason Aldean'),\n",
       " billboard.ChartEntry(title='Frozen II', artist='Soundtrack'),\n",
       " billboard.ChartEntry(title=\"Hollywood's Bleeding\", artist='Post Malone'),\n",
       " billboard.ChartEntry(title='When We All Fall Asleep, Where Do We Go?', artist='Billie Eilish'),\n",
       " billboard.ChartEntry(title='Lover', artist='Taylor Swift'),\n",
       " billboard.ChartEntry(title='Everyday Life', artist='Coldplay'),\n",
       " billboard.ChartEntry(title='Melly vs. Melvin', artist='YNW Melly'),\n",
       " billboard.ChartEntry(title='What You See Is What You Get', artist='Luke Combs'),\n",
       " billboard.ChartEntry(title='Over It', artist='Summer Walker'),\n",
       " billboard.ChartEntry(title='AI YoungBoy 2', artist='YoungBoy Never Broke Again'),\n",
       " billboard.ChartEntry(title='KIRK', artist='DaBaby'),\n",
       " billboard.ChartEntry(title='Chixtape 5', artist='Tory Lanez'),\n",
       " billboard.ChartEntry(title='Greatest Hits', artist='Queen'),\n",
       " billboard.ChartEntry(title='Ghetto Gospel', artist='Rod Wave'),\n",
       " billboard.ChartEntry(title='Abbey Road', artist='The Beatles'),\n",
       " billboard.ChartEntry(title='Christmas', artist='Michael Buble'),\n",
       " billboard.ChartEntry(title='The Best Of Pentatonix Christmas', artist='Pentatonix'),\n",
       " billboard.ChartEntry(title='So Much Fun', artist='Young Thug'),\n",
       " billboard.ChartEntry(title='Divinely Uninspired To A Hellish Extent', artist='Lewis Capaldi'),\n",
       " billboard.ChartEntry(title='Merry Christmas', artist='Mariah Carey'),\n",
       " billboard.ChartEntry(title='Cuz I Love You', artist='Lizzo'),\n",
       " billboard.ChartEntry(title='beerbongs & bentleys', artist='Post Malone'),\n",
       " billboard.ChartEntry(title='Indigo', artist='Chris Brown'),\n",
       " billboard.ChartEntry(title='JESUS IS KING (Soundtrack)', artist='Kanye West'),\n",
       " billboard.ChartEntry(title='No.6 Collaborations Project', artist='Ed Sheeran'),\n",
       " billboard.ChartEntry(title=\"This One's For You\", artist='Luke Combs'),\n",
       " billboard.ChartEntry(title='Thank U, Next', artist='Ariana Grande'),\n",
       " billboard.ChartEntry(title='Free Spirit', artist='Khalid'),\n",
       " billboard.ChartEntry(title='Guardians Of The Galaxy: Awesome Mix Vol. 1', artist='Soundtrack'),\n",
       " billboard.ChartEntry(title='The Christmas Song', artist='Nat King Cole'),\n",
       " billboard.ChartEntry(title='A Charlie Brown Christmas (Soundtrack)', artist='Vince Guaraldi Trio'),\n",
       " billboard.ChartEntry(title='ASTROWORLD', artist='Travis Scott'),\n",
       " billboard.ChartEntry(title='Dont Smile At Me', artist='Billie Eilish'),\n",
       " billboard.ChartEntry(title='Diamonds', artist='Elton John'),\n",
       " billboard.ChartEntry(title='Scorpion', artist='Drake'),\n",
       " billboard.ChartEntry(title='7 (EP)', artist='Lil Nas X'),\n",
       " billboard.ChartEntry(title='True 2 Myself', artist='Lil Tjay'),\n",
       " billboard.ChartEntry(title='We Love You Tecca', artist='Lil Tecca'),\n",
       " billboard.ChartEntry(title='Hyperspace', artist='Beck'),\n",
       " billboard.ChartEntry(title='Stoney', artist='Post Malone'),\n",
       " billboard.ChartEntry(title='Perfect Ten', artist='Mustard'),\n",
       " billboard.ChartEntry(title='Ultimate Christmas', artist='Frank Sinatra'),\n",
       " billboard.ChartEntry(title='Hamilton: An American Musical', artist='Original Broadway Cast Recording'),\n",
       " billboard.ChartEntry(title='The Search', artist='NF'),\n",
       " billboard.ChartEntry(title='Baby On Baby', artist='DaBaby'),\n",
       " billboard.ChartEntry(title='Quality Control: Control The Streets, Volume 2', artist='Various Artists'),\n",
       " billboard.ChartEntry(title=\"I'm Him\", artist='Kevin Gates'),\n",
       " billboard.ChartEntry(title='The Best Of Bing Crosby: 20th Century Masters: The Christmas Collection', artist='Bing Crosby'),\n",
       " billboard.ChartEntry(title='A Christmas Gift For You From Phil Spector', artist='Various Artists'),\n",
       " billboard.ChartEntry(title='Shawn Mendes', artist='Shawn Mendes'),\n",
       " billboard.ChartEntry(title='A Legendary Christmas', artist='John Legend'),\n",
       " billboard.ChartEntry(title='Old Dominion', artist='Old Dominion'),\n",
       " billboard.ChartEntry(title='Happiness Begins', artist='Jonas Brothers'),\n",
       " billboard.ChartEntry(title='Ocean', artist='Lady Antebellum'),\n",
       " billboard.ChartEntry(title='American Teen', artist='Khalid'),\n",
       " billboard.ChartEntry(title='Chronicle The 20 Greatest Hits', artist='Creedence Clearwater Revival Featuring John Fogerty'),\n",
       " billboard.ChartEntry(title='Goodbye & Good Riddance', artist='Juice WRLD'),\n",
       " billboard.ChartEntry(title='÷ (Divide)', artist='Ed Sheeran'),\n",
       " billboard.ChartEntry(title='Dreamville & J. Cole: Revenge Of The Dreamers III', artist='Various Artists'),\n",
       " billboard.ChartEntry(title='Thanks For The Dance', artist='Leonard Cohen'),\n",
       " billboard.ChartEntry(title='The Kids Are Coming (EP)', artist='Tones And I'),\n",
       " billboard.ChartEntry(title='?', artist='XXXTENTACION'),\n",
       " billboard.ChartEntry(title='Legend: The Best Of...', artist='Bob Marley And The Wailers'),\n",
       " billboard.ChartEntry(title='Ultimate Sinatra', artist='Frank Sinatra'),\n",
       " billboard.ChartEntry(title='Hoodie SZN', artist='A Boogie Wit da Hoodie'),\n",
       " billboard.ChartEntry(title='Dan + Shay', artist='Dan + Shay'),\n",
       " billboard.ChartEntry(title='If I Know Me', artist='Morgan Wallen'),\n",
       " billboard.ChartEntry(title='The Greatest Showman', artist='Soundtrack'),\n",
       " billboard.ChartEntry(title='Rudolph The Red Nosed Reindeer And Other Christmas Classics', artist='Gene Autry'),\n",
       " billboard.ChartEntry(title='The Classic Christmas Album', artist='Perry Como'),\n",
       " billboard.ChartEntry(title='Coconut Oil (EP)', artist='Lizzo'),\n",
       " billboard.ChartEntry(title='Look Up Child', artist='Lauren Daigle'),\n",
       " billboard.ChartEntry(title='X 100PRE', artist='Bad Bunny'),\n",
       " billboard.ChartEntry(title='Invasion Of Privacy', artist='Cardi B'),\n",
       " billboard.ChartEntry(title='Classic Christmas Album', artist='Andy Williams'),\n",
       " billboard.ChartEntry(title='Championships', artist='Meek Mill'),\n",
       " billboard.ChartEntry(title='Traveller', artist='Chris Stapleton'),\n",
       " billboard.ChartEntry(title='Purple Rain (Soundtrack)', artist='Prince And The Revolution'),\n",
       " billboard.ChartEntry(title='The Hood Dictionary', artist='NoCap'),\n",
       " billboard.ChartEntry(title='Hot Pink', artist='Doja Cat'),\n",
       " billboard.ChartEntry(title='Certified Hitmaker', artist='Lil Mosey'),\n",
       " billboard.ChartEntry(title='Homesick (EP)', artist='Trevor Daniel'),\n",
       " billboard.ChartEntry(title=\"Journey's Greatest Hits\", artist='Journey'),\n",
       " billboard.ChartEntry(title='Frozen: The Songs', artist='Soundtrack'),\n",
       " billboard.ChartEntry(title='Wildcard', artist='Miranda Lambert'),\n",
       " billboard.ChartEntry(title='Death Race For Love', artist='Juice WRLD'),\n",
       " billboard.ChartEntry(title='1', artist='The Beatles'),\n",
       " billboard.ChartEntry(title='Rudolph The Red-Nosed Reindeer', artist='Burl Ives'),\n",
       " billboard.ChartEntry(title='Greatest Hits 1974-78', artist='The Steve Miller Band'),\n",
       " billboard.ChartEntry(title='Last Christmas (Soundtrack)', artist='George Michael & Wham!'),\n",
       " billboard.ChartEntry(title='Die A Legend', artist='Polo G'),\n",
       " billboard.ChartEntry(title='The Classic Christmas Album', artist='Elvis Presley'),\n",
       " billboard.ChartEntry(title='Luv Is Rage 2', artist='Lil Uzi Vert'),\n",
       " billboard.ChartEntry(title='Take Care', artist='Drake'),\n",
       " billboard.ChartEntry(title='DAMN.', artist='Kendrick Lamar'),\n",
       " billboard.ChartEntry(title='Experiment', artist='Kane Brown'),\n",
       " billboard.ChartEntry(title='Rumours', artist='Fleetwood Mac'),\n",
       " billboard.ChartEntry(title=\"Wow... That's Crazy\", artist='Wale'),\n",
       " billboard.ChartEntry(title='Starboy', artist='The Weeknd'),\n",
       " billboard.ChartEntry(title='Wrapped In Red', artist='Kelly Clarkson'),\n",
       " billboard.ChartEntry(title='A Star Is Born (Soundtrack)', artist='Lady Gaga & Bradley Cooper'),\n",
       " billboard.ChartEntry(title='Drip Harder', artist='Lil Baby & Gunna'),\n",
       " billboard.ChartEntry(title='GIRL', artist='Maren Morris'),\n",
       " billboard.ChartEntry(title='Views', artist='Drake'),\n",
       " billboard.ChartEntry(title='Back In Black', artist='AC/DC'),\n",
       " billboard.ChartEntry(title='The Essential Billy Joel', artist='Billy Joel'),\n",
       " billboard.ChartEntry(title='Greatest Hits', artist='Tom Petty And The Heartbreakers'),\n",
       " billboard.ChartEntry(title='1989', artist='Taylor Swift'),\n",
       " billboard.ChartEntry(title='IGOR', artist='Tyler, The Creator'),\n",
       " billboard.ChartEntry(title='Courage', artist='Celine Dion'),\n",
       " billboard.ChartEntry(title=\"Rockin' Around The Christmas Tree: The Decca Christmas Recordings\", artist='Brenda Lee'),\n",
       " billboard.ChartEntry(title='Greatest Hits', artist='2Pac'),\n",
       " billboard.ChartEntry(title='The Big Day', artist='Chance The Rapper'),\n",
       " billboard.ChartEntry(title='The Dark Side Of The Moon', artist='Pink Floyd'),\n",
       " billboard.ChartEntry(title='Pray For The Wicked', artist='Panic! At The Disco'),\n",
       " billboard.ChartEntry(title='MTV Unplugged In New York', artist='Nirvana'),\n",
       " billboard.ChartEntry(title='Evolve', artist='Imagine Dragons'),\n",
       " billboard.ChartEntry(title='Beauty Behind The Madness', artist='The Weeknd'),\n",
       " billboard.ChartEntry(title='Thriller', artist='Michael Jackson'),\n",
       " billboard.ChartEntry(title='Christmas Classics', artist='Bing Crosby'),\n",
       " billboard.ChartEntry(title='2014 Forest Hills Drive', artist='J. Cole'),\n",
       " billboard.ChartEntry(title='Golden Hour', artist='Kacey Musgraves'),\n",
       " billboard.ChartEntry(title='Center Point Road', artist='Thomas Rhett'),\n",
       " billboard.ChartEntry(title='Kidz Bop 40', artist='Kidz Bop Kids'),\n",
       " billboard.ChartEntry(title=\"EVERYBODY'S EVERYTHING\", artist='Lil Peep'),\n",
       " billboard.ChartEntry(title='Moana', artist='Soundtrack'),\n",
       " billboard.ChartEntry(title='King Of R&B', artist='Jacquees'),\n",
       " billboard.ChartEntry(title='good kid, m.A.A.d city', artist='Kendrick Lamar'),\n",
       " billboard.ChartEntry(title='Oasis', artist='J Balvin & Bad Bunny'),\n",
       " billboard.ChartEntry(title='Sounds Of Summer: The Very Best Of The Beach Boys', artist='The Beach Boys'),\n",
       " billboard.ChartEntry(title='Love For Guala', artist='Flipp Dinero'),\n",
       " billboard.ChartEntry(title='More Life', artist='Drake'),\n",
       " billboard.ChartEntry(title='Ella Mai', artist='Ella Mai'),\n",
       " billboard.ChartEntry(title='I Am > I Was', artist='21 Savage'),\n",
       " billboard.ChartEntry(title='Born To Die', artist='Lana Del Rey'),\n",
       " billboard.ChartEntry(title='Cry Pretty', artist='Carrie Underwood'),\n",
       " billboard.ChartEntry(title='Victory Lap', artist='Nipsey Hussle'),\n",
       " billboard.ChartEntry(title='Sweetener', artist='Ariana Grande'),\n",
       " billboard.ChartEntry(title='The Dean Martin Christmas Album', artist='Dean Martin'),\n",
       " billboard.ChartEntry(title='Perception', artist='NF'),\n",
       " billboard.ChartEntry(title='17', artist='XXXTENTACION'),\n",
       " billboard.ChartEntry(title='Birds In The Trap Sing McKnight', artist='Travis Scott'),\n",
       " billboard.ChartEntry(title='Swimming', artist='Mac Miller'),\n",
       " billboard.ChartEntry(title='Blurryface', artist='twenty one pilots'),\n",
       " billboard.ChartEntry(title='Their Greatest Hits 1971-1975', artist='Eagles'),\n",
       " billboard.ChartEntry(title='Songs For You', artist='Tinashe'),\n",
       " billboard.ChartEntry(title='Bohemian Rhapsody (Soundtrack)', artist='Queen'),\n",
       " billboard.ChartEntry(title='The Essential Elvis Presley', artist='Elvis Presley'),\n",
       " billboard.ChartEntry(title='H.E.R.', artist='H.E.R.'),\n",
       " billboard.ChartEntry(title='Ctrl', artist='SZA'),\n",
       " billboard.ChartEntry(title='Appetite For Destruction', artist=\"Guns N' Roses\"),\n",
       " billboard.ChartEntry(title='Kane Brown', artist='Kane Brown'),\n",
       " billboard.ChartEntry(title='Harder Than Ever', artist='Lil Baby'),\n",
       " billboard.ChartEntry(title='Tha Carter V', artist='Lil Wayne'),\n",
       " billboard.ChartEntry(title='reputation', artist='Taylor Swift'),\n",
       " billboard.ChartEntry(title='Doo-Wops & Hooligans', artist='Bruno Mars'),\n",
       " billboard.ChartEntry(title='Blonde', artist='Frank Ocean'),\n",
       " billboard.ChartEntry(title='TwentyFive', artist='George Michael'),\n",
       " billboard.ChartEntry(title='Hooligan', artist='Upchurch x Adam Calhoun'),\n",
       " billboard.ChartEntry(title='Fear Inoculum', artist='Tool'),\n",
       " billboard.ChartEntry(title='Norman Fucking Rockwell!', artist='Lana Del Rey'),\n",
       " billboard.ChartEntry(title='Survival', artist='Dave East'),\n",
       " billboard.ChartEntry(title='Fever', artist='Megan Thee Stallion'),\n",
       " billboard.ChartEntry(title='Noel', artist='Josh Groban'),\n",
       " billboard.ChartEntry(title='Drip Or Drown 2', artist='Gunna'),\n",
       " billboard.ChartEntry(title='My Beautiful Dark Twisted Fantasy', artist='Kanye West'),\n",
       " billboard.ChartEntry(title='SuperM: The 1st Mini Album (EP)', artist='SuperM'),\n",
       " billboard.ChartEntry(title='The Essential Michael Jackson', artist='Michael Jackson'),\n",
       " billboard.ChartEntry(title='Nevermind', artist='Nirvana'),\n",
       " billboard.ChartEntry(title='Cosmic', artist='Bazzi'),\n",
       " billboard.ChartEntry(title='Ready Or Not', artist='Grateful Dead'),\n",
       " billboard.ChartEntry(title='x', artist='Ed Sheeran'),\n",
       " billboard.ChartEntry(title='MELT', artist='SHAED'),\n",
       " billboard.ChartEntry(title='Back To Black', artist='Amy Winehouse'),\n",
       " billboard.ChartEntry(title='21', artist='Adele'),\n",
       " billboard.ChartEntry(title='ANTI', artist='Rihanna'),\n",
       " billboard.ChartEntry(title='Greatest Hits', artist='The Notorious B.I.G.'),\n",
       " billboard.ChartEntry(title='The Eminem Show', artist='Eminem'),\n",
       " billboard.ChartEntry(title='Destroyer', artist='KISS'),\n",
       " billboard.ChartEntry(title='K-12 (Soundtrack)', artist='Melanie Martinez'),\n",
       " billboard.ChartEntry(title='Dying To Live', artist='Kodak Black'),\n",
       " billboard.ChartEntry(title='Metallica', artist='Metallica'),\n",
       " billboard.ChartEntry(title='Pinkfong Presents: The Best Of Baby Shark', artist='Pinkfong'),\n",
       " billboard.ChartEntry(title='In The Lonely Hour', artist='Sam Smith'),\n",
       " billboard.ChartEntry(title='T R A P S O U L', artist='Bryson Tiller'),\n",
       " billboard.ChartEntry(title='I Am You', artist='YNW Melly'),\n",
       " billboard.ChartEntry(title='Rearview Town', artist='Jason Aldean'),\n",
       " billboard.ChartEntry(title='Believers Never Die, Volume Two: Greatest Hits', artist='Fall Out Boy'),\n",
       " billboard.ChartEntry(title='Die Lit', artist='Playboi Carti'),\n",
       " billboard.ChartEntry(title='Nothing Was The Same', artist='Drake'),\n",
       " billboard.ChartEntry(title='Greatest Hits', artist='Red Hot Chili Peppers'),\n",
       " billboard.ChartEntry(title='Greatest Hits', artist='Bob Seger & The Silver Bullet Band'),\n",
       " billboard.ChartEntry(title='Icon: Frank Sinatra', artist='Frank Sinatra'),\n",
       " billboard.ChartEntry(title='Culture II', artist='Migos'),\n",
       " billboard.ChartEntry(title='Woptober II', artist='Gucci Mane'),\n",
       " billboard.ChartEntry(title='Greatest Hits So Far...', artist='Zac Brown Band'),\n",
       " billboard.ChartEntry(title='Trench', artist='twenty one pilots'),\n",
       " billboard.ChartEntry(title='Christmas Portrait', artist='Carpenters'),\n",
       " billboard.ChartEntry(title='Night Visions', artist='Imagine Dragons')]"
      ]
     },
     "execution_count": 5,
     "metadata": {},
     "output_type": "execute_result"
    }
   ],
   "source": [
    "chart.entries"
   ]
  },
  {
   "cell_type": "code",
   "execution_count": 6,
   "metadata": {
    "ExecuteTime": {
     "end_time": "2019-12-05T09:20:35.418010Z",
     "start_time": "2019-12-05T09:20:35.280132Z"
    }
   },
   "outputs": [],
   "source": [
    "song = chart[0]"
   ]
  },
  {
   "cell_type": "code",
   "execution_count": 7,
   "metadata": {
    "ExecuteTime": {
     "end_time": "2019-12-05T09:20:35.509187Z",
     "start_time": "2019-12-05T09:20:35.420979Z"
    }
   },
   "outputs": [
    {
     "name": "stdout",
     "output_type": "stream",
     "text": [
      "Song Title=> A Love Letter To You 4\n",
      "Song Artist=> Trippie Redd\n",
      "URL of image of the track=> None\n",
      "The track's peak position on the chart at any point in time, including future dates=> 1\n",
      "The track's position on the previous week's chart=> 0\n",
      "Number of weeks on the chart=> 1\n",
      "Rank on the Billboard=> 1\n",
      "Is track new on the chart=> True\n"
     ]
    }
   ],
   "source": [
    "print(\"Song Title=>\",song.title)\n",
    "print(\"Song Artist=>\",song.artist)\n",
    "print(\"URL of image of the track=>\",song.image)\n",
    "print(\"The track's peak position on the chart at any point in time, including future dates=>\",song.peakPos)\n",
    "print(\"The track's position on the previous week's chart=>\",song.lastPos)\n",
    "print(\"Number of weeks on the chart=>\",song.weeks)\n",
    "print(\"Rank on the Billboard=>\",song.rank)\n",
    "print(\"Is track new on the chart=>\",song.isNew)"
   ]
  },
  {
   "cell_type": "code",
   "execution_count": 8,
   "metadata": {
    "ExecuteTime": {
     "end_time": "2019-12-05T09:20:42.197254Z",
     "start_time": "2019-12-05T09:20:35.512147Z"
    }
   },
   "outputs": [],
   "source": [
    "chart=billboard.ChartData('billboard-200',date=chart.previousDate)"
   ]
  },
  {
   "cell_type": "code",
   "execution_count": null,
   "metadata": {},
   "outputs": [],
   "source": []
  }
 ],
 "metadata": {
  "kernelspec": {
   "display_name": "Python 3",
   "language": "python",
   "name": "python3"
  },
  "language_info": {
   "codemirror_mode": {
    "name": "ipython",
    "version": 3
   },
   "file_extension": ".py",
   "mimetype": "text/x-python",
   "name": "python",
   "nbconvert_exporter": "python",
   "pygments_lexer": "ipython3",
   "version": "3.7.3"
  },
  "toc": {
   "base_numbering": 1,
   "nav_menu": {},
   "number_sections": true,
   "sideBar": true,
   "skip_h1_title": false,
   "title_cell": "Table of Contents",
   "title_sidebar": "Contents",
   "toc_cell": false,
   "toc_position": {},
   "toc_section_display": true,
   "toc_window_display": false
  },
  "varInspector": {
   "cols": {
    "lenName": 16,
    "lenType": 16,
    "lenVar": 40
   },
   "kernels_config": {
    "python": {
     "delete_cmd_postfix": "",
     "delete_cmd_prefix": "del ",
     "library": "var_list.py",
     "varRefreshCmd": "print(var_dic_list())"
    },
    "r": {
     "delete_cmd_postfix": ") ",
     "delete_cmd_prefix": "rm(",
     "library": "var_list.r",
     "varRefreshCmd": "cat(var_dic_list()) "
    }
   },
   "types_to_exclude": [
    "module",
    "function",
    "builtin_function_or_method",
    "instance",
    "_Feature"
   ],
   "window_display": false
  }
 },
 "nbformat": 4,
 "nbformat_minor": 2
}
