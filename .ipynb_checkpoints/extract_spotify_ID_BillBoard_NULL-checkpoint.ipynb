{
 "cells": [
  {
   "cell_type": "code",
   "execution_count": 1,
   "metadata": {
    "ExecuteTime": {
     "end_time": "2019-12-25T16:14:29.362279Z",
     "start_time": "2019-12-25T16:14:28.980272Z"
    }
   },
   "outputs": [],
   "source": [
    "import spotipy\n",
    "from spotipy.oauth2 import SpotifyClientCredentials\n",
    "import pandas as pd\n",
    "from tqdm import tqdm"
   ]
  },
  {
   "cell_type": "code",
   "execution_count": 2,
   "metadata": {
    "ExecuteTime": {
     "end_time": "2019-12-25T16:14:31.242950Z",
     "start_time": "2019-12-25T16:14:30.529283Z"
    }
   },
   "outputs": [],
   "source": [
    "client_credentials = SpotifyClientCredentials(client_id = '69d5ceec0f8d42299ac8fce0969a6beb', client_secret = 'f35d4f91afc64282832550504da49790')\n",
    "spotify = spotipy.Spotify(client_credentials_manager = client_credentials)"
   ]
  },
  {
   "cell_type": "code",
   "execution_count": 38,
   "metadata": {
    "ExecuteTime": {
     "end_time": "2019-12-25T16:20:37.813027Z",
     "start_time": "2019-12-25T16:20:37.601999Z"
    }
   },
   "outputs": [],
   "source": [
    "data=pd.read_excel('BillBoard_spotify_id.xls',header=None)"
   ]
  },
  {
   "cell_type": "code",
   "execution_count": null,
   "metadata": {
    "ExecuteTime": {
     "start_time": "2019-12-25T16:31:24.294Z"
    }
   },
   "outputs": [
    {
     "name": "stderr",
     "output_type": "stream",
     "text": [
      "\n",
      "0it [00:00, ?it/s]\u001b[A\n",
      "1it [00:00,  4.14it/s]\u001b[A\n",
      "2it [00:00,  4.24it/s]\u001b[A\n",
      "3it [00:00,  4.14it/s]\u001b[A\n",
      "4it [00:01,  3.77it/s]\u001b[A\n",
      "5it [00:01,  2.94it/s]\u001b[A\n",
      "6it [00:01,  3.25it/s]\u001b[A\n",
      "7it [00:02,  3.40it/s]\u001b[A"
     ]
    }
   ],
   "source": [
    "ll=[]\n",
    "for i in tqdm(data.iterrows()):\n",
    "    results = spotify.search(q='artist:' + str(i[1][1].split()[0]) + ' track:' + str(i[1][0]), type='track')\n",
    "    if len(results['tracks']['items'])!=0:\n",
    "        ll.append(results['tracks']['items'][0]['id'])\n",
    "    else:\n",
    "        ll.append(-999)"
   ]
  },
  {
   "cell_type": "code",
   "execution_count": 17,
   "metadata": {
    "ExecuteTime": {
     "end_time": "2019-12-25T15:51:50.023635Z",
     "start_time": "2019-12-25T15:51:50.009947Z"
    }
   },
   "outputs": [],
   "source": [
    "data['Spotify_ID']=ll"
   ]
  },
  {
   "cell_type": "code",
   "execution_count": 18,
   "metadata": {
    "ExecuteTime": {
     "end_time": "2019-12-25T15:51:50.732118Z",
     "start_time": "2019-12-25T15:51:50.694371Z"
    }
   },
   "outputs": [
    {
     "data": {
      "text/html": [
       "<div>\n",
       "<style scoped>\n",
       "    .dataframe tbody tr th:only-of-type {\n",
       "        vertical-align: middle;\n",
       "    }\n",
       "\n",
       "    .dataframe tbody tr th {\n",
       "        vertical-align: top;\n",
       "    }\n",
       "\n",
       "    .dataframe thead th {\n",
       "        text-align: right;\n",
       "    }\n",
       "</style>\n",
       "<table border=\"1\" class=\"dataframe\">\n",
       "  <thead>\n",
       "    <tr style=\"text-align: right;\">\n",
       "      <th></th>\n",
       "      <th>0</th>\n",
       "      <th>1</th>\n",
       "      <th>Spotify_ID</th>\n",
       "    </tr>\n",
       "  </thead>\n",
       "  <tbody>\n",
       "    <tr>\n",
       "      <td>0</td>\n",
       "      <td>Girls Like You</td>\n",
       "      <td>Maroon 5 Featuring Cardi B</td>\n",
       "      <td>-999</td>\n",
       "    </tr>\n",
       "    <tr>\n",
       "      <td>1</td>\n",
       "      <td>Lucid Dreams</td>\n",
       "      <td>Juice WRLD</td>\n",
       "      <td>285pBltuF7vW8TeWk8hdRR</td>\n",
       "    </tr>\n",
       "    <tr>\n",
       "      <td>2</td>\n",
       "      <td>Better Now</td>\n",
       "      <td>Post Malone</td>\n",
       "      <td>7dt6x5M1jzdTEt8oCbisTK</td>\n",
       "    </tr>\n",
       "    <tr>\n",
       "      <td>3</td>\n",
       "      <td>Drip Too Hard</td>\n",
       "      <td>Lil Baby &amp; Gunna</td>\n",
       "      <td>78QR3Wp35dqAhFEc2qAGjE</td>\n",
       "    </tr>\n",
       "    <tr>\n",
       "      <td>4</td>\n",
       "      <td>Shallow</td>\n",
       "      <td>Lady Gaga &amp; Bradley Cooper</td>\n",
       "      <td>-999</td>\n",
       "    </tr>\n",
       "    <tr>\n",
       "      <td>...</td>\n",
       "      <td>...</td>\n",
       "      <td>...</td>\n",
       "      <td>...</td>\n",
       "    </tr>\n",
       "    <tr>\n",
       "      <td>10754</td>\n",
       "      <td>I Didn't Mean To Stay All Night</td>\n",
       "      <td>Starship</td>\n",
       "      <td>0r3vcHAYvgyK0Yttwz5wOd</td>\n",
       "    </tr>\n",
       "    <tr>\n",
       "      <td>10755</td>\n",
       "      <td>Talk To Myself</td>\n",
       "      <td>Christopher Williams</td>\n",
       "      <td>4ywZNNUKItstMw7akcYdKj</td>\n",
       "    </tr>\n",
       "    <tr>\n",
       "      <td>10756</td>\n",
       "      <td>500 Miles</td>\n",
       "      <td>Hooters</td>\n",
       "      <td>4NTVgBIkIO63F7V4cTTDtr</td>\n",
       "    </tr>\n",
       "    <tr>\n",
       "      <td>10757</td>\n",
       "      <td>Back To The Bullet</td>\n",
       "      <td>Saraya</td>\n",
       "      <td>0vFOxSmQ2DvSlqeicQFGZO</td>\n",
       "    </tr>\n",
       "    <tr>\n",
       "      <td>10758</td>\n",
       "      <td>Owwww!</td>\n",
       "      <td>Chunky A</td>\n",
       "      <td>-999</td>\n",
       "    </tr>\n",
       "  </tbody>\n",
       "</table>\n",
       "<p>10759 rows × 3 columns</p>\n",
       "</div>"
      ],
      "text/plain": [
       "                                     0                           1  \\\n",
       "0                       Girls Like You  Maroon 5 Featuring Cardi B   \n",
       "1                         Lucid Dreams                  Juice WRLD   \n",
       "2                           Better Now                 Post Malone   \n",
       "3                        Drip Too Hard            Lil Baby & Gunna   \n",
       "4                              Shallow  Lady Gaga & Bradley Cooper   \n",
       "...                                ...                         ...   \n",
       "10754  I Didn't Mean To Stay All Night                    Starship   \n",
       "10755                   Talk To Myself        Christopher Williams   \n",
       "10756                        500 Miles                     Hooters   \n",
       "10757               Back To The Bullet                      Saraya   \n",
       "10758                           Owwww!                    Chunky A   \n",
       "\n",
       "                   Spotify_ID  \n",
       "0                        -999  \n",
       "1      285pBltuF7vW8TeWk8hdRR  \n",
       "2      7dt6x5M1jzdTEt8oCbisTK  \n",
       "3      78QR3Wp35dqAhFEc2qAGjE  \n",
       "4                        -999  \n",
       "...                       ...  \n",
       "10754  0r3vcHAYvgyK0Yttwz5wOd  \n",
       "10755  4ywZNNUKItstMw7akcYdKj  \n",
       "10756  4NTVgBIkIO63F7V4cTTDtr  \n",
       "10757  0vFOxSmQ2DvSlqeicQFGZO  \n",
       "10758                    -999  \n",
       "\n",
       "[10759 rows x 3 columns]"
      ]
     },
     "execution_count": 18,
     "metadata": {},
     "output_type": "execute_result"
    }
   ],
   "source": [
    "data"
   ]
  },
  {
   "cell_type": "code",
   "execution_count": 19,
   "metadata": {
    "ExecuteTime": {
     "end_time": "2019-12-25T15:52:04.338445Z",
     "start_time": "2019-12-25T15:52:03.319555Z"
    }
   },
   "outputs": [],
   "source": [
    "data.to_excel('BillBoard_spotify_id.xls',index=False,header=False)"
   ]
  },
  {
   "cell_type": "code",
   "execution_count": null,
   "metadata": {},
   "outputs": [],
   "source": []
  }
 ],
 "metadata": {
  "kernelspec": {
   "display_name": "Python 3",
   "language": "python",
   "name": "python3"
  },
  "language_info": {
   "codemirror_mode": {
    "name": "ipython",
    "version": 3
   },
   "file_extension": ".py",
   "mimetype": "text/x-python",
   "name": "python",
   "nbconvert_exporter": "python",
   "pygments_lexer": "ipython3",
   "version": "3.7.3"
  },
  "toc": {
   "base_numbering": 1,
   "nav_menu": {},
   "number_sections": true,
   "sideBar": true,
   "skip_h1_title": false,
   "title_cell": "Table of Contents",
   "title_sidebar": "Contents",
   "toc_cell": false,
   "toc_position": {},
   "toc_section_display": true,
   "toc_window_display": false
  },
  "varInspector": {
   "cols": {
    "lenName": 16,
    "lenType": 16,
    "lenVar": 40
   },
   "kernels_config": {
    "python": {
     "delete_cmd_postfix": "",
     "delete_cmd_prefix": "del ",
     "library": "var_list.py",
     "varRefreshCmd": "print(var_dic_list())"
    },
    "r": {
     "delete_cmd_postfix": ") ",
     "delete_cmd_prefix": "rm(",
     "library": "var_list.r",
     "varRefreshCmd": "cat(var_dic_list()) "
    }
   },
   "types_to_exclude": [
    "module",
    "function",
    "builtin_function_or_method",
    "instance",
    "_Feature"
   ],
   "window_display": false
  }
 },
 "nbformat": 4,
 "nbformat_minor": 2
}
