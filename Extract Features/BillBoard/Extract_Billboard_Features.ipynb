{
 "cells": [
  {
   "cell_type": "code",
   "execution_count": 10,
   "metadata": {
    "ExecuteTime": {
     "end_time": "2019-12-27T10:07:28.687792Z",
     "start_time": "2019-12-27T10:07:28.672169Z"
    }
   },
   "outputs": [],
   "source": [
    "import spotipy\n",
    "from spotipy.oauth2 import SpotifyClientCredentials\n",
    "import pandas as pd\n",
    "from tqdm import tqdm"
   ]
  },
  {
   "cell_type": "code",
   "execution_count": 11,
   "metadata": {
    "ExecuteTime": {
     "end_time": "2019-12-27T10:07:29.375403Z",
     "start_time": "2019-12-27T10:07:29.365818Z"
    }
   },
   "outputs": [],
   "source": [
    "client_credentials = SpotifyClientCredentials(client_id = '69d5ceec0f8d42299ac8fce0969a6beb', client_secret = 'f35d4f91afc64282832550504da49790')\n",
    "spotify = spotipy.Spotify(client_credentials_manager = client_credentials)"
   ]
  },
  {
   "cell_type": "code",
   "execution_count": 16,
   "metadata": {
    "ExecuteTime": {
     "end_time": "2019-12-27T10:07:53.532222Z",
     "start_time": "2019-12-27T10:07:53.374744Z"
    }
   },
   "outputs": [],
   "source": [
    "data=pd.read_excel('/home/samthekiller/Downloads/Projects/Machine Learning/Spotify/Extract Spotify ID/BillBoard/BillBoard_spotify_id_non_null.xls',header=None)"
   ]
  },
  {
   "cell_type": "code",
   "execution_count": 4,
   "metadata": {
    "ExecuteTime": {
     "end_time": "2019-12-27T09:27:59.746741Z",
     "start_time": "2019-12-27T09:27:59.736416Z"
    }
   },
   "outputs": [],
   "source": [
    "danceability=[]\n",
    "energy=[]\n",
    "key=[]\n",
    "loudness=[]\n",
    "mode=[]\n",
    "speechiness=[]\n",
    "acousticness=[]\n",
    "instrumentalness=[]\n",
    "liveness=[]\n",
    "valence=[]\n",
    "tempo=[]\n",
    "duration_ms=[]"
   ]
  },
  {
   "cell_type": "code",
   "execution_count": 5,
   "metadata": {
    "ExecuteTime": {
     "end_time": "2019-12-27T10:04:02.735981Z",
     "start_time": "2019-12-27T09:28:03.137241Z"
    }
   },
   "outputs": [
    {
     "name": "stderr",
     "output_type": "stream",
     "text": [
      "9329it [35:59,  4.66it/s]\n"
     ]
    }
   ],
   "source": [
    "for i in tqdm(data.iterrows()):\n",
    "    results = spotify.audio_features(i[1][2])\n",
    "    if results[0]!=None:\n",
    "        danceability.append(results[0]['danceability'])\n",
    "        energy.append(results[0]['energy'])\n",
    "        key.append(results[0]['key'])\n",
    "        loudness.append(results[0]['loudness'])\n",
    "        mode.append(results[0]['mode'])\n",
    "        speechiness.append(results[0]['speechiness'])\n",
    "        acousticness.append(results[0]['acousticness'])\n",
    "        instrumentalness.append(results[0]['instrumentalness'])\n",
    "        liveness.append(results[0]['liveness'])\n",
    "        valence.append(results[0]['valence'])\n",
    "        tempo.append(results[0]['tempo'])\n",
    "        duration_ms.append(results[0]['duration_ms'])\n",
    "    if results[0]==None:\n",
    "        danceability.append(-999)\n",
    "        energy.append(-999)\n",
    "        key.append(-999)\n",
    "        loudness.append(-999)\n",
    "        mode.append(-999)\n",
    "        speechiness.append(-999)\n",
    "        acousticness.append(-999)\n",
    "        instrumentalness.append(-999)\n",
    "        liveness.append(-999)\n",
    "        valence.append(-999)\n",
    "        tempo.append(-999)\n",
    "        duration_ms.append(-999)"
   ]
  },
  {
   "cell_type": "code",
   "execution_count": 20,
   "metadata": {
    "ExecuteTime": {
     "end_time": "2019-12-27T10:11:26.266533Z",
     "start_time": "2019-12-27T10:11:26.228090Z"
    }
   },
   "outputs": [],
   "source": [
    "data['danceability']=danceability\n",
    "data['energy']=energy\n",
    "data['key']=key\n",
    "data['loudness']=loudness\n",
    "data['mode']=mode\n",
    "data['speechiness']=speechiness\n",
    "data['acousticness']=acousticness\n",
    "data['instrumentalness']=instrumentalness\n",
    "data['liveness']=liveness\n",
    "data['valence']=valence\n",
    "data['tempo']=tempo\n",
    "data['duration_ms']=duration_ms"
   ]
  },
  {
   "cell_type": "code",
   "execution_count": 23,
   "metadata": {
    "ExecuteTime": {
     "end_time": "2019-12-27T10:12:15.924560Z",
     "start_time": "2019-12-27T10:12:14.175713Z"
    }
   },
   "outputs": [],
   "source": [
    "data.to_excel('BillBoard_Features.xls',index=False,header=True)"
   ]
  },
  {
   "cell_type": "code",
   "execution_count": null,
   "metadata": {},
   "outputs": [],
   "source": []
  }
 ],
 "metadata": {
  "kernelspec": {
   "display_name": "Python 3",
   "language": "python",
   "name": "python3"
  },
  "language_info": {
   "codemirror_mode": {
    "name": "ipython",
    "version": 3
   },
   "file_extension": ".py",
   "mimetype": "text/x-python",
   "name": "python",
   "nbconvert_exporter": "python",
   "pygments_lexer": "ipython3",
   "version": "3.7.3"
  },
  "toc": {
   "base_numbering": 1,
   "nav_menu": {},
   "number_sections": true,
   "sideBar": true,
   "skip_h1_title": false,
   "title_cell": "Table of Contents",
   "title_sidebar": "Contents",
   "toc_cell": false,
   "toc_position": {},
   "toc_section_display": true,
   "toc_window_display": false
  },
  "varInspector": {
   "cols": {
    "lenName": 16,
    "lenType": 16,
    "lenVar": 40
   },
   "kernels_config": {
    "python": {
     "delete_cmd_postfix": "",
     "delete_cmd_prefix": "del ",
     "library": "var_list.py",
     "varRefreshCmd": "print(var_dic_list())"
    },
    "r": {
     "delete_cmd_postfix": ") ",
     "delete_cmd_prefix": "rm(",
     "library": "var_list.r",
     "varRefreshCmd": "cat(var_dic_list()) "
    }
   },
   "types_to_exclude": [
    "module",
    "function",
    "builtin_function_or_method",
    "instance",
    "_Feature"
   ],
   "window_display": false
  }
 },
 "nbformat": 4,
 "nbformat_minor": 2
}
