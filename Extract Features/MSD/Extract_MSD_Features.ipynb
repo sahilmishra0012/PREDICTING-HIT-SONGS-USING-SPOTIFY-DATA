{
 "cells": [
  {
   "cell_type": "code",
   "execution_count": 1,
   "metadata": {
    "ExecuteTime": {
     "end_time": "2019-12-27T10:15:03.553474Z",
     "start_time": "2019-12-27T10:15:03.158949Z"
    }
   },
   "outputs": [],
   "source": [
    "import spotipy\n",
    "from spotipy.oauth2 import SpotifyClientCredentials\n",
    "import pandas as pd\n",
    "from tqdm import tqdm"
   ]
  },
  {
   "cell_type": "code",
   "execution_count": 2,
   "metadata": {
    "ExecuteTime": {
     "end_time": "2019-12-27T10:15:09.872504Z",
     "start_time": "2019-12-27T10:15:09.866037Z"
    }
   },
   "outputs": [],
   "source": [
    "client_credentials = SpotifyClientCredentials(client_id = '69d5ceec0f8d42299ac8fce0969a6beb', client_secret = 'f35d4f91afc64282832550504da49790')\n",
    "spotify = spotipy.Spotify(client_credentials_manager = client_credentials)"
   ]
  },
  {
   "cell_type": "code",
   "execution_count": 3,
   "metadata": {
    "ExecuteTime": {
     "end_time": "2019-12-27T10:15:54.730060Z",
     "start_time": "2019-12-27T10:15:54.529403Z"
    }
   },
   "outputs": [],
   "source": [
    "data=pd.read_excel('/home/samthekiller/Downloads/Projects/Machine Learning/Spotify/Extract Spotify ID/MSD/MSD_spotify_id_year_1990.xls',header=None)"
   ]
  },
  {
   "cell_type": "code",
   "execution_count": 4,
   "metadata": {
    "ExecuteTime": {
     "end_time": "2019-12-27T10:15:57.298260Z",
     "start_time": "2019-12-27T10:15:57.263960Z"
    }
   },
   "outputs": [
    {
     "data": {
      "text/html": [
       "<div>\n",
       "<style scoped>\n",
       "    .dataframe tbody tr th:only-of-type {\n",
       "        vertical-align: middle;\n",
       "    }\n",
       "\n",
       "    .dataframe tbody tr th {\n",
       "        vertical-align: top;\n",
       "    }\n",
       "\n",
       "    .dataframe thead th {\n",
       "        text-align: right;\n",
       "    }\n",
       "</style>\n",
       "<table border=\"1\" class=\"dataframe\">\n",
       "  <thead>\n",
       "    <tr style=\"text-align: right;\">\n",
       "      <th></th>\n",
       "      <th>0</th>\n",
       "      <th>1</th>\n",
       "      <th>2</th>\n",
       "      <th>3</th>\n",
       "      <th>4</th>\n",
       "      <th>5</th>\n",
       "    </tr>\n",
       "  </thead>\n",
       "  <tbody>\n",
       "    <tr>\n",
       "      <td>0</td>\n",
       "      <td>Sonora Santanera</td>\n",
       "      <td>Las Numero 1 De La Sonora Santanera</td>\n",
       "      <td>Amor De Cabaret</td>\n",
       "      <td>2016</td>\n",
       "      <td>TRAAADZ128F9348C2E</td>\n",
       "      <td>5JeyXbf7CrVQ8DqwFikN0P</td>\n",
       "    </tr>\n",
       "    <tr>\n",
       "      <td>1</td>\n",
       "      <td>JennyAnyKind</td>\n",
       "      <td>I Need You</td>\n",
       "      <td>Young Boy Blues</td>\n",
       "      <td>2000</td>\n",
       "      <td>TRAAAVO128F93133D4</td>\n",
       "      <td>5uN6oY2NGLC6GKoywHKkZA</td>\n",
       "    </tr>\n",
       "    <tr>\n",
       "      <td>2</td>\n",
       "      <td>Casual</td>\n",
       "      <td>Fear Itself</td>\n",
       "      <td>I Didn't Mean To</td>\n",
       "      <td>1994</td>\n",
       "      <td>TRAAAAW128F429D538</td>\n",
       "      <td>01TR6aAKrA2cI3Z0gnCOsu</td>\n",
       "    </tr>\n",
       "    <tr>\n",
       "      <td>3</td>\n",
       "      <td>Jeff And Sheri Easter</td>\n",
       "      <td>Ordinary Day</td>\n",
       "      <td>The Moon And I (Ordinary Day Album Version)</td>\n",
       "      <td>2006</td>\n",
       "      <td>TRAAAMO128F1481E7F</td>\n",
       "      <td>7ERvcsBBYzSHqQQqlI9xAN</td>\n",
       "    </tr>\n",
       "    <tr>\n",
       "      <td>4</td>\n",
       "      <td>Tweeterfriendly Music</td>\n",
       "      <td>Gin &amp; Phonic</td>\n",
       "      <td>Drop of Rain</td>\n",
       "      <td>2003</td>\n",
       "      <td>TRAAAPK128E0786D96</td>\n",
       "      <td>6dfppQDZQ4x3fCs6N89kV3</td>\n",
       "    </tr>\n",
       "    <tr>\n",
       "      <td>...</td>\n",
       "      <td>...</td>\n",
       "      <td>...</td>\n",
       "      <td>...</td>\n",
       "      <td>...</td>\n",
       "      <td>...</td>\n",
       "      <td>...</td>\n",
       "    </tr>\n",
       "    <tr>\n",
       "      <td>5598</td>\n",
       "      <td>David Arkenstone</td>\n",
       "      <td>Return Of The Guardians</td>\n",
       "      <td>The Forgotten Lands</td>\n",
       "      <td>1996</td>\n",
       "      <td>TRBIJIA128F425F57D</td>\n",
       "      <td>7xV2k7FEMtUT4IUu4L87it</td>\n",
       "    </tr>\n",
       "    <tr>\n",
       "      <td>5599</td>\n",
       "      <td>Moonspell</td>\n",
       "      <td>Sin / Pecado</td>\n",
       "      <td>The Hanged Man</td>\n",
       "      <td>1998</td>\n",
       "      <td>TRBIJMU12903CF892B</td>\n",
       "      <td>3e0tyTV5FiV1bcYeRjdDz2</td>\n",
       "    </tr>\n",
       "    <tr>\n",
       "      <td>5600</td>\n",
       "      <td>Seventh Day Slumber</td>\n",
       "      <td>Once Upon A Shattered Life</td>\n",
       "      <td>Shattered Life</td>\n",
       "      <td>2005</td>\n",
       "      <td>TRBIJYB128F14AE326</td>\n",
       "      <td>2CQwzG5nbS7ys8CHSlavVg</td>\n",
       "    </tr>\n",
       "    <tr>\n",
       "      <td>5601</td>\n",
       "      <td>It Dies Today</td>\n",
       "      <td>Sirens</td>\n",
       "      <td>One the road (to Damnation)</td>\n",
       "      <td>2006</td>\n",
       "      <td>TRBIJFB128F92ED124</td>\n",
       "      <td>0MS1NrmBWaCpPLFEXV0VMZ</td>\n",
       "    </tr>\n",
       "    <tr>\n",
       "      <td>5602</td>\n",
       "      <td>Danny Williams</td>\n",
       "      <td>Collection</td>\n",
       "      <td>The Wonderful World Of The Young</td>\n",
       "      <td>1998</td>\n",
       "      <td>TRBIJNF128F14815A7</td>\n",
       "      <td>62wqW6Q9eTozrruWPt9Z9i</td>\n",
       "    </tr>\n",
       "  </tbody>\n",
       "</table>\n",
       "<p>5603 rows × 6 columns</p>\n",
       "</div>"
      ],
      "text/plain": [
       "                          0                                    1  \\\n",
       "0          Sonora Santanera  Las Numero 1 De La Sonora Santanera   \n",
       "1              JennyAnyKind                           I Need You   \n",
       "2                    Casual                          Fear Itself   \n",
       "3     Jeff And Sheri Easter                         Ordinary Day   \n",
       "4     Tweeterfriendly Music                         Gin & Phonic   \n",
       "...                     ...                                  ...   \n",
       "5598       David Arkenstone              Return Of The Guardians   \n",
       "5599              Moonspell                         Sin / Pecado   \n",
       "5600    Seventh Day Slumber           Once Upon A Shattered Life   \n",
       "5601          It Dies Today                               Sirens   \n",
       "5602         Danny Williams                           Collection   \n",
       "\n",
       "                                                2     3                   4  \\\n",
       "0                                 Amor De Cabaret  2016  TRAAADZ128F9348C2E   \n",
       "1                                 Young Boy Blues  2000  TRAAAVO128F93133D4   \n",
       "2                                I Didn't Mean To  1994  TRAAAAW128F429D538   \n",
       "3     The Moon And I (Ordinary Day Album Version)  2006  TRAAAMO128F1481E7F   \n",
       "4                                    Drop of Rain  2003  TRAAAPK128E0786D96   \n",
       "...                                           ...   ...                 ...   \n",
       "5598                          The Forgotten Lands  1996  TRBIJIA128F425F57D   \n",
       "5599                               The Hanged Man  1998  TRBIJMU12903CF892B   \n",
       "5600                               Shattered Life  2005  TRBIJYB128F14AE326   \n",
       "5601                  One the road (to Damnation)  2006  TRBIJFB128F92ED124   \n",
       "5602             The Wonderful World Of The Young  1998  TRBIJNF128F14815A7   \n",
       "\n",
       "                           5  \n",
       "0     5JeyXbf7CrVQ8DqwFikN0P  \n",
       "1     5uN6oY2NGLC6GKoywHKkZA  \n",
       "2     01TR6aAKrA2cI3Z0gnCOsu  \n",
       "3     7ERvcsBBYzSHqQQqlI9xAN  \n",
       "4     6dfppQDZQ4x3fCs6N89kV3  \n",
       "...                      ...  \n",
       "5598  7xV2k7FEMtUT4IUu4L87it  \n",
       "5599  3e0tyTV5FiV1bcYeRjdDz2  \n",
       "5600  2CQwzG5nbS7ys8CHSlavVg  \n",
       "5601  0MS1NrmBWaCpPLFEXV0VMZ  \n",
       "5602  62wqW6Q9eTozrruWPt9Z9i  \n",
       "\n",
       "[5603 rows x 6 columns]"
      ]
     },
     "execution_count": 4,
     "metadata": {},
     "output_type": "execute_result"
    }
   ],
   "source": [
    "data"
   ]
  },
  {
   "cell_type": "code",
   "execution_count": 5,
   "metadata": {
    "ExecuteTime": {
     "end_time": "2019-12-27T10:16:14.969371Z",
     "start_time": "2019-12-27T10:16:14.960167Z"
    }
   },
   "outputs": [],
   "source": [
    "danceability=[]\n",
    "energy=[]\n",
    "key=[]\n",
    "loudness=[]\n",
    "mode=[]\n",
    "speechiness=[]\n",
    "acousticness=[]\n",
    "instrumentalness=[]\n",
    "liveness=[]\n",
    "valence=[]\n",
    "tempo=[]\n",
    "duration_ms=[]"
   ]
  },
  {
   "cell_type": "code",
   "execution_count": null,
   "metadata": {
    "ExecuteTime": {
     "start_time": "2019-12-27T10:16:30.701Z"
    }
   },
   "outputs": [
    {
     "name": "stderr",
     "output_type": "stream",
     "text": [
      "96it [00:22,  4.61it/s]"
     ]
    }
   ],
   "source": [
    "for i in tqdm(data.iterrows()):\n",
    "    results = spotify.audio_features(i[1][5])\n",
    "    if results[0]!=None:\n",
    "        danceability.append(results[0]['danceability'])\n",
    "        energy.append(results[0]['energy'])\n",
    "        key.append(results[0]['key'])\n",
    "        loudness.append(results[0]['loudness'])\n",
    "        mode.append(results[0]['mode'])\n",
    "        speechiness.append(results[0]['speechiness'])\n",
    "        acousticness.append(results[0]['acousticness'])\n",
    "        instrumentalness.append(results[0]['instrumentalness'])\n",
    "        liveness.append(results[0]['liveness'])\n",
    "        valence.append(results[0]['valence'])\n",
    "        tempo.append(results[0]['tempo'])\n",
    "        duration_ms.append(results[0]['duration_ms'])\n",
    "    if results[0]==None:\n",
    "        danceability.append(-999)\n",
    "        energy.append(-999)\n",
    "        key.append(-999)\n",
    "        loudness.append(-999)\n",
    "        mode.append(-999)\n",
    "        speechiness.append(-999)\n",
    "        acousticness.append(-999)\n",
    "        instrumentalness.append(-999)\n",
    "        liveness.append(-999)\n",
    "        valence.append(-999)\n",
    "        tempo.append(-999)\n",
    "        duration_ms.append(-999)"
   ]
  },
  {
   "cell_type": "code",
   "execution_count": null,
   "metadata": {},
   "outputs": [],
   "source": [
    "data['danceability']=danceability\n",
    "data['energy']=energy\n",
    "data['key']=key\n",
    "data['loudness']=loudness\n",
    "data['mode']=mode\n",
    "data['speechiness']=speechiness\n",
    "data['acousticness']=acousticness\n",
    "data['instrumentalness']=instrumentalness\n",
    "data['liveness']=liveness\n",
    "data['valence']=valence\n",
    "data['tempo']=tempo\n",
    "data['duration_ms']=duration_ms"
   ]
  },
  {
   "cell_type": "code",
   "execution_count": null,
   "metadata": {},
   "outputs": [],
   "source": [
    "data.to_excel('BillBoard_Features.xls',index=False,header=True)"
   ]
  }
 ],
 "metadata": {
  "kernelspec": {
   "display_name": "Python 3",
   "language": "python",
   "name": "python3"
  },
  "language_info": {
   "codemirror_mode": {
    "name": "ipython",
    "version": 3
   },
   "file_extension": ".py",
   "mimetype": "text/x-python",
   "name": "python",
   "nbconvert_exporter": "python",
   "pygments_lexer": "ipython3",
   "version": "3.7.3"
  },
  "toc": {
   "base_numbering": 1,
   "nav_menu": {},
   "number_sections": true,
   "sideBar": true,
   "skip_h1_title": false,
   "title_cell": "Table of Contents",
   "title_sidebar": "Contents",
   "toc_cell": false,
   "toc_position": {},
   "toc_section_display": true,
   "toc_window_display": false
  },
  "varInspector": {
   "cols": {
    "lenName": 16,
    "lenType": 16,
    "lenVar": 40
   },
   "kernels_config": {
    "python": {
     "delete_cmd_postfix": "",
     "delete_cmd_prefix": "del ",
     "library": "var_list.py",
     "varRefreshCmd": "print(var_dic_list())"
    },
    "r": {
     "delete_cmd_postfix": ") ",
     "delete_cmd_prefix": "rm(",
     "library": "var_list.r",
     "varRefreshCmd": "cat(var_dic_list()) "
    }
   },
   "types_to_exclude": [
    "module",
    "function",
    "builtin_function_or_method",
    "instance",
    "_Feature"
   ],
   "window_display": false
  }
 },
 "nbformat": 4,
 "nbformat_minor": 2
}
