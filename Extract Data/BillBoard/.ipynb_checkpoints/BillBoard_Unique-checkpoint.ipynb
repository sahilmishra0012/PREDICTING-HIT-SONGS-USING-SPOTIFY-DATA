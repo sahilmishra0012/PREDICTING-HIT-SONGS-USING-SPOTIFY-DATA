{
 "cells": [
  {
   "cell_type": "code",
   "execution_count": 1,
   "metadata": {
    "ExecuteTime": {
     "end_time": "2019-12-25T03:52:42.603640Z",
     "start_time": "2019-12-25T03:52:42.321118Z"
    }
   },
   "outputs": [],
   "source": [
    "import pandas as pd\n",
    "from tqdm import tqdm"
   ]
  },
  {
   "cell_type": "code",
   "execution_count": 2,
   "metadata": {
    "ExecuteTime": {
     "end_time": "2019-12-25T03:52:43.617229Z",
     "start_time": "2019-12-25T03:52:43.477811Z"
    }
   },
   "outputs": [],
   "source": [
    "data=pd.read_csv('billboard.csv',header=None)"
   ]
  },
  {
   "cell_type": "code",
   "execution_count": 3,
   "metadata": {
    "ExecuteTime": {
     "end_time": "2019-12-25T03:53:04.672029Z",
     "start_time": "2019-12-25T03:52:50.252645Z"
    }
   },
   "outputs": [
    {
     "name": "stderr",
     "output_type": "stream",
     "text": [
      "100%|██████████| 1504/1504 [00:14<00:00, 104.49it/s]\n"
     ]
    }
   ],
   "source": [
    "artists=[]\n",
    "tracks=[]\n",
    "for i in tqdm(range(data.shape[0])):\n",
    "    for j in range(data.shape[1]):\n",
    "        k=tuple(data.iloc[i][j].split(', '))\n",
    "        tracks.append(k[0][2:-1])\n",
    "        artists.append(k[1][1:-1])"
   ]
  },
  {
   "cell_type": "code",
   "execution_count": 4,
   "metadata": {
    "ExecuteTime": {
     "end_time": "2019-12-25T03:53:14.395318Z",
     "start_time": "2019-12-25T03:53:14.376849Z"
    }
   },
   "outputs": [],
   "source": [
    "new_data=pd.DataFrame(columns=['Track','Artist'])"
   ]
  },
  {
   "cell_type": "code",
   "execution_count": 5,
   "metadata": {
    "ExecuteTime": {
     "end_time": "2019-12-25T03:53:15.127878Z",
     "start_time": "2019-12-25T03:53:15.062189Z"
    }
   },
   "outputs": [],
   "source": [
    "new_data['Track']=tracks\n",
    "new_data['Artist']=artists"
   ]
  },
  {
   "cell_type": "code",
   "execution_count": 6,
   "metadata": {
    "ExecuteTime": {
     "end_time": "2019-12-25T03:53:15.882493Z",
     "start_time": "2019-12-25T03:53:15.830533Z"
    }
   },
   "outputs": [],
   "source": [
    "new_data.drop_duplicates(keep=\"first\", inplace=True)"
   ]
  },
  {
   "cell_type": "code",
   "execution_count": 14,
   "metadata": {
    "ExecuteTime": {
     "end_time": "2019-12-25T03:55:07.672989Z",
     "start_time": "2019-12-25T03:55:07.326836Z"
    }
   },
   "outputs": [],
   "source": [
    "new_data.to_excel('billboard_unique.xls',header=None,index=False)"
   ]
  },
  {
   "cell_type": "code",
   "execution_count": null,
   "metadata": {},
   "outputs": [],
   "source": []
  }
 ],
 "metadata": {
  "kernelspec": {
   "display_name": "Python 3",
   "language": "python",
   "name": "python3"
  },
  "language_info": {
   "codemirror_mode": {
    "name": "ipython",
    "version": 3
   },
   "file_extension": ".py",
   "mimetype": "text/x-python",
   "name": "python",
   "nbconvert_exporter": "python",
   "pygments_lexer": "ipython3",
   "version": "3.7.3"
  },
  "toc": {
   "base_numbering": 1,
   "nav_menu": {},
   "number_sections": true,
   "sideBar": true,
   "skip_h1_title": false,
   "title_cell": "Table of Contents",
   "title_sidebar": "Contents",
   "toc_cell": false,
   "toc_position": {},
   "toc_section_display": true,
   "toc_window_display": false
  },
  "varInspector": {
   "cols": {
    "lenName": 16,
    "lenType": 16,
    "lenVar": 40
   },
   "kernels_config": {
    "python": {
     "delete_cmd_postfix": "",
     "delete_cmd_prefix": "del ",
     "library": "var_list.py",
     "varRefreshCmd": "print(var_dic_list())"
    },
    "r": {
     "delete_cmd_postfix": ") ",
     "delete_cmd_prefix": "rm(",
     "library": "var_list.r",
     "varRefreshCmd": "cat(var_dic_list()) "
    }
   },
   "types_to_exclude": [
    "module",
    "function",
    "builtin_function_or_method",
    "instance",
    "_Feature"
   ],
   "window_display": false
  }
 },
 "nbformat": 4,
 "nbformat_minor": 2
}
