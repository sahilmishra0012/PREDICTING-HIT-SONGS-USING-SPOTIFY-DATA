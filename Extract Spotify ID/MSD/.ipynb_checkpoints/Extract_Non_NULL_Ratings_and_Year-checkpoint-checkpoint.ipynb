{
 "cells": [
  {
   "cell_type": "code",
   "execution_count": 15,
   "metadata": {
    "ExecuteTime": {
     "end_time": "2019-12-26T15:13:22.552501Z",
     "start_time": "2019-12-26T15:13:22.362729Z"
    }
   },
   "outputs": [],
   "source": [
    "import spotipy\n",
    "from spotipy.oauth2 import SpotifyClientCredentials\n",
    "import pandas as pd\n",
    "from tqdm import tqdm"
   ]
  },
  {
   "cell_type": "code",
   "execution_count": 16,
   "metadata": {
    "ExecuteTime": {
     "end_time": "2019-12-26T15:13:22.931734Z",
     "start_time": "2019-12-26T15:13:22.927615Z"
    }
   },
   "outputs": [],
   "source": [
    "client_credentials = SpotifyClientCredentials(client_id = '69d5ceec0f8d42299ac8fce0969a6beb', client_secret = 'f35d4f91afc64282832550504da49790')\n",
    "spotify = spotipy.Spotify(client_credentials_manager = client_credentials)"
   ]
  },
  {
   "cell_type": "code",
   "execution_count": 60,
   "metadata": {
    "ExecuteTime": {
     "end_time": "2019-12-26T16:37:02.097304Z",
     "start_time": "2019-12-26T16:37:01.861028Z"
    }
   },
   "outputs": [],
   "source": [
    "data=pd.read_excel('MSD_spotify_id.xls',header=None)"
   ]
  },
  {
   "cell_type": "code",
   "execution_count": 61,
   "metadata": {
    "ExecuteTime": {
     "end_time": "2019-12-26T16:37:09.761267Z",
     "start_time": "2019-12-26T16:37:09.755291Z"
    }
   },
   "outputs": [],
   "source": [
    "data=data[data[5]!=-999]"
   ]
  },
  {
   "cell_type": "code",
   "execution_count": 63,
   "metadata": {
    "ExecuteTime": {
     "end_time": "2019-12-26T16:37:24.052086Z",
     "start_time": "2019-12-26T16:37:24.032547Z"
    }
   },
   "outputs": [],
   "source": [
    "zero_year_data=data[data[3]==0]"
   ]
  },
  {
   "cell_type": "code",
   "execution_count": 26,
   "metadata": {
    "ExecuteTime": {
     "end_time": "2019-12-26T15:17:05.173600Z",
     "start_time": "2019-12-26T15:17:04.726791Z"
    }
   },
   "outputs": [],
   "source": [
    "results = spotify.search(q='artist:' + artist + ' track:' + track, type='track')"
   ]
  },
  {
   "cell_type": "code",
   "execution_count": 51,
   "metadata": {
    "ExecuteTime": {
     "end_time": "2019-12-26T16:31:54.179704Z",
     "start_time": "2019-12-26T15:22:42.099500Z"
    }
   },
   "outputs": [
    {
     "name": "stderr",
     "output_type": "stream",
     "text": [
      "3117it [1:09:12,  1.45it/s]\n"
     ]
    }
   ],
   "source": [
    "ll=[]\n",
    "for i in tqdm(zero_year_data.iterrows()):\n",
    "    results = spotify.search(q='artist:' + str(i[1][0]) + ' track:' + str(i[1][2]), type='track')\n",
    "    if len(results['tracks']['items'])!=0:\n",
    "        ll.append(results['tracks']['items'][0]['album']['release_date'][0:4])\n",
    "    else:\n",
    "        ll.append(-999)"
   ]
  },
  {
   "cell_type": "code",
   "execution_count": 65,
   "metadata": {
    "ExecuteTime": {
     "end_time": "2019-12-26T16:37:45.927049Z",
     "start_time": "2019-12-26T16:37:45.907070Z"
    }
   },
   "outputs": [],
   "source": [
    "non_zero_year_data=data[data[3]!=0]"
   ]
  },
  {
   "cell_type": "code",
   "execution_count": 67,
   "metadata": {
    "ExecuteTime": {
     "end_time": "2019-12-26T16:38:00.267865Z",
     "start_time": "2019-12-26T16:38:00.247640Z"
    }
   },
   "outputs": [
    {
     "name": "stderr",
     "output_type": "stream",
     "text": [
      "/home/samthekiller/anaconda3/lib/python3.7/site-packages/ipykernel_launcher.py:1: SettingWithCopyWarning: \n",
      "A value is trying to be set on a copy of a slice from a DataFrame.\n",
      "Try using .loc[row_indexer,col_indexer] = value instead\n",
      "\n",
      "See the caveats in the documentation: http://pandas.pydata.org/pandas-docs/stable/user_guide/indexing.html#returning-a-view-versus-a-copy\n",
      "  \"\"\"Entry point for launching an IPython kernel.\n"
     ]
    }
   ],
   "source": [
    "zero_year_data[3]=ll"
   ]
  },
  {
   "cell_type": "code",
   "execution_count": 69,
   "metadata": {
    "ExecuteTime": {
     "end_time": "2019-12-26T16:38:21.346101Z",
     "start_time": "2019-12-26T16:38:21.323244Z"
    }
   },
   "outputs": [],
   "source": [
    "new_data=pd.concat([zero_year_data,non_zero_year_data])"
   ]
  },
  {
   "cell_type": "code",
   "execution_count": 71,
   "metadata": {
    "ExecuteTime": {
     "end_time": "2019-12-26T16:39:16.979121Z",
     "start_time": "2019-12-26T16:39:16.432504Z"
    }
   },
   "outputs": [],
   "source": [
    "new_data.to_excel('MSD_spotify_id_non_null_year.xls',index=False,header=False)"
   ]
  },
  {
   "cell_type": "code",
   "execution_count": null,
   "metadata": {},
   "outputs": [],
   "source": []
  }
 ],
 "metadata": {
  "kernelspec": {
   "display_name": "Python 3",
   "language": "python",
   "name": "python3"
  },
  "language_info": {
   "codemirror_mode": {
    "name": "ipython",
    "version": 3
   },
   "file_extension": ".py",
   "mimetype": "text/x-python",
   "name": "python",
   "nbconvert_exporter": "python",
   "pygments_lexer": "ipython3",
   "version": "3.7.3"
  },
  "toc": {
   "base_numbering": 1,
   "nav_menu": {},
   "number_sections": true,
   "sideBar": true,
   "skip_h1_title": false,
   "title_cell": "Table of Contents",
   "title_sidebar": "Contents",
   "toc_cell": false,
   "toc_position": {},
   "toc_section_display": true,
   "toc_window_display": false
  },
  "varInspector": {
   "cols": {
    "lenName": 16,
    "lenType": 16,
    "lenVar": 40
   },
   "kernels_config": {
    "python": {
     "delete_cmd_postfix": "",
     "delete_cmd_prefix": "del ",
     "library": "var_list.py",
     "varRefreshCmd": "print(var_dic_list())"
    },
    "r": {
     "delete_cmd_postfix": ") ",
     "delete_cmd_prefix": "rm(",
     "library": "var_list.r",
     "varRefreshCmd": "cat(var_dic_list()) "
    }
   },
   "types_to_exclude": [
    "module",
    "function",
    "builtin_function_or_method",
    "instance",
    "_Feature"
   ],
   "window_display": false
  }
 },
 "nbformat": 4,
 "nbformat_minor": 2
}
